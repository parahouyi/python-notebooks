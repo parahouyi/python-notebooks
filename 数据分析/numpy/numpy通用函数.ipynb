{
 "cells": [
  {
   "cell_type": "code",
   "execution_count": 3,
   "metadata": {},
   "outputs": [],
   "source": [
    "import numpy as np\n",
    "from __future__ import unicode_literals\n",
    "from IPython.core.interactiveshell import InteractiveShell\n",
    "InteractiveShell.ast_node_interactivity = 'all'"
   ]
  },
  {
   "cell_type": "code",
   "execution_count": 4,
   "metadata": {},
   "outputs": [
    {
     "data": {
      "text/plain": [
       "array([[ 0,  1,  2,  3,  4,  5,  6,  7,  8,  9, 10, 11, 12, 13, 14],\n",
       "       [16, 17, 18, 19, 20, 21, 22, 23, 24, 25, 26, 27, 28, 29, 30]])"
      ]
     },
     "execution_count": 4,
     "metadata": {},
     "output_type": "execute_result"
    },
    {
     "data": {
      "text/plain": [
       "array([False, False, False, False,  True,  True,  True,  True,  True,\n",
       "        True,  True,  True, False, False, False])"
      ]
     },
     "execution_count": 4,
     "metadata": {},
     "output_type": "execute_result"
    },
    {
     "data": {
      "text/plain": [
       "array([ 4,  5,  6,  7,  8,  9, 10, 11])"
      ]
     },
     "execution_count": 4,
     "metadata": {},
     "output_type": "execute_result"
    }
   ],
   "source": [
    "a = np.arange(15)\n",
    "b = np.arange(16,31)\n",
    "c=np.vstack((a,b))\n",
    "c\n",
    "# a.all(axis=0,where=[a>3, a<12])\n",
    "mask = np.all([a>3,a<12],axis=0)\n",
    "mask\n",
    "c.compress(mask)"
   ]
  },
  {
   "cell_type": "markdown",
   "metadata": {},
   "source": [
    "### 裁剪、压缩\n",
    "\n",
    "**数组的裁剪**\n",
    "\n",
    "```python\n",
    "# 将调用数组中小于和大于下限和上限的元素替换为下限和上限，返回裁剪后的数组，调\n",
    "# 用数组保持不变。\n",
    "ndarray.clip(min=下限, max=上限)"
   ]
  },
  {
   "cell_type": "markdown",
   "metadata": {},
   "source": [
    "**数组的压缩**\n",
    "\n",
    "```python\n",
    "# 返回由调用数组中满足条件的元素组成的新数组。\n",
    "ndarray.compress(条件)\n",
    "\n",
    "```\n",
    "\n",
    "案例：\n",
    "\n",
    "```python\n",
    "from __future__ import unicode_literals\n",
    "import numpy as np\n",
    "a = np.array([10, 20, 30, 40, 50])\n",
    "print(a)\n",
    "b = a.clip(min=15, max=45)\n",
    "print(b)\n",
    "c = a.compress((15 <= a) & (a <= 45))\n",
    "print(c)\n",
    "\n",
    "```"
   ]
  },
  {
   "cell_type": "markdown",
   "metadata": {},
   "source": [
    "### 加法与乘法通用函数 \n",
    "\n",
    "```python\n",
    "np.add(a, a) \t\t\t\t\t# 两数组相加\n",
    "np.add.reduce(a) \t\t\t\t# a数组元素累加和\n",
    "np.add.accumulate(a) \t\t\t# 累加和过程\n",
    "np.add.outer([10, 20, 30], a)\t# 外和\n",
    "np.prod(a)\n",
    "np.cumprod(a)\n",
    "np.outer([10, 20, 30], a)       # 外积\n",
    "\n",
    "```"
   ]
  },
  {
   "cell_type": "markdown",
   "metadata": {},
   "source": [
    "### 除法与取整通用函数\n",
    "\n",
    "```python\n",
    "np.divide(a, b) \t# a 真除 b\n",
    "\n",
    "np.floor(a / b)\t\t# （真除的结果向下取整）\n",
    "np.ceil(a / b) \t\t# （真除的结果向上取整）\n",
    "np.trunc(a / b)\t\t# （真除的结果截断取整）\n",
    "np.round(a / b)\t\t# （真除的结果四舍五入取整）\n",
    "\n",
    "```\n"
   ]
  },
  {
   "cell_type": "code",
   "execution_count": 5,
   "metadata": {},
   "outputs": [
    {
     "name": "stdout",
     "output_type": "stream",
     "text": [
      "array: [ 6.66666667 -6.66666667 -3.33333333  3.33333333]\n",
      "floor_divide: [ 6. -7. -4.  3.]\n",
      "ceil ndarray: [ 7. -6. -3.  4.]\n",
      "trunc ndarray: [ 6. -6. -3.  3.]\n",
      "around ndarray: [ 7. -7. -3.  3.]\n"
     ]
    }
   ],
   "source": [
    "import numpy as np\n",
    "\n",
    "a = np.array([20, 20, -20, -20])\n",
    "b = np.array([3, -3, 6, -6])\n",
    "# 真除\n",
    "c = np.true_divide(a, b)\n",
    "c = np.divide(a, b)\n",
    "c = a / b\n",
    "print('array:',c)\n",
    "# 对ndarray做floor操作\n",
    "d = np.floor(a / b)\n",
    "print('floor_divide:',d)\n",
    "# 对ndarray做ceil操作\n",
    "e = np.ceil(a / b)\n",
    "print('ceil ndarray:',e)\n",
    "# 对ndarray做trunc操作\n",
    "f = np.trunc(a / b)\n",
    "print('trunc ndarray:',f)\n",
    "# 对ndarray做around操作\n",
    "g = np.around(a / b)\n",
    "print('around ndarray:',g)"
   ]
  },
  {
   "cell_type": "code",
   "execution_count": null,
   "metadata": {},
   "outputs": [],
   "source": []
  },
  {
   "cell_type": "code",
   "execution_count": null,
   "metadata": {},
   "outputs": [],
   "source": []
  }
 ],
 "metadata": {
  "kernelspec": {
   "display_name": "Python 3.10.6 64-bit",
   "language": "python",
   "name": "python3"
  },
  "language_info": {
   "codemirror_mode": {
    "name": "ipython",
    "version": 3
   },
   "file_extension": ".py",
   "mimetype": "text/x-python",
   "name": "python",
   "nbconvert_exporter": "python",
   "pygments_lexer": "ipython3",
   "version": "3.10.6"
  },
  "orig_nbformat": 4,
  "vscode": {
   "interpreter": {
    "hash": "8067871d1d0a2a4071e2339831fc76617fc2c3eeb09b72735f92026d568ae05b"
   }
  }
 },
 "nbformat": 4,
 "nbformat_minor": 2
}
