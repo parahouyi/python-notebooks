{
 "cells": [
  {
   "cell_type": "markdown",
   "metadata": {},
   "source": [
    " # 读取文件的五种方式\n"
   ]
  },
  {
   "cell_type": "markdown",
   "metadata": {},
   "source": [
    "第一种：使用 open常规操作\n"
   ]
  },
  {
   "cell_type": "code",
   "execution_count": 1,
   "metadata": {},
   "outputs": [],
   "source": [
    "\n",
    "with open('data.txt') as fp:\n",
    "  content = fp.readlines()\n",
    "  "
   ]
  },
  {
   "cell_type": "markdown",
   "metadata": {},
   "source": [
    "\n",
    "第二种：使用内置库 fileinput\n",
    "    可以同时读取多个文件中的内容\n"
   ]
  },
  {
   "cell_type": "code",
   "execution_count": 4,
   "metadata": {},
   "outputs": [
    {
     "data": {
      "text/plain": [
       "['\\n',\n",
       " '3.11 Python 读取文件的六种方式\\n',\n",
       " 'http://image.iswbm.com/20200804124133.png\\n',\n",
       " '第一种：使用 open\\n',\n",
       " '\\n',\n",
       " '常规操作\\n',\n",
       " '\\n',\n",
       " \"with open('data.txt') as fp:\\n\",\n",
       " '  content = fp.readlines()\\n',\n",
       " '\\n',\n",
       " '第二种：使用 fileinput\\n',\n",
       " '\\n',\n",
       " '使用内置库 fileinput\\n',\n",
       " '\\n',\n",
       " 'import fileinput\\n',\n",
       " '\\n',\n",
       " \"with fileinput.input(files=('data.txt',)) as file:\\n\",\n",
       " '    content = [line for line in file]\\n',\n",
       " '\\n',\n",
       " '第三种：使用 filecache\\n',\n",
       " '\\n',\n",
       " '使用内置库 filecache，你可以用它来指定读取具体某一行，或者某几行，不指定就读取全部行。\\n',\n",
       " '\\n',\n",
       " 'import linecache\\n',\n",
       " '\\n',\n",
       " '\\n',\n",
       " 'The first edition of this book was published in 2012, during a time when open source data analysis libraries for Python, especially pandas, were very new and developing rapidly. When the time came to write the second edition in 2016 and 2017, I needed to update the book not only for Python 3.6 (the first edition used Python 2.7) but also for the many changes in pandas that had ']"
      ]
     },
     "execution_count": 4,
     "metadata": {},
     "output_type": "execute_result"
    }
   ],
   "source": [
    "\n",
    "import fileinput\n",
    "\n",
    "with fileinput.input(files=('data.txt','data2.txt'), encoding='utf8') as file:\n",
    "    content = [line for line in file]\n",
    "content\n"
   ]
  },
  {
   "cell_type": "markdown",
   "metadata": {},
   "source": [
    "\n",
    "第三种：使用 内置库 filecache，你可以用它来指定读取具体某一行，或者某几行，不指定就读取全部行。\n",
    "\n"
   ]
  },
  {
   "cell_type": "code",
   "execution_count": null,
   "metadata": {},
   "outputs": [],
   "source": [
    "import linecache\n",
    "\n",
    "content = linecache.getlines('werobot.toml')\n"
   ]
  },
  {
   "cell_type": "markdown",
   "metadata": {},
   "source": [
    "\n",
    "第四种：使用 codecs.open 来读取\n"
   ]
  },
  {
   "cell_type": "code",
   "execution_count": null,
   "metadata": {},
   "outputs": [],
   "source": [
    "\n",
    "import codecs\n",
    "file=codecs.open(\"README.md\", 'r')\n",
    "file.read()\n"
   ]
  },
  {
   "cell_type": "markdown",
   "metadata": {},
   "source": [
    "\n",
    "第五种：使用 io 模块的 open 函数,io.open 和os.open,  open 是同一个函数\n"
   ]
  },
  {
   "cell_type": "code",
   "execution_count": null,
   "metadata": {},
   "outputs": [],
   "source": [
    "\n",
    "import io\n",
    "file=io.open(\"README.md\")\n",
    "file.read()\n",
    "\n",
    "\n"
   ]
  }
 ],
 "metadata": {
  "kernelspec": {
   "display_name": "Python 3.10.6 64-bit",
   "language": "python",
   "name": "python3"
  },
  "language_info": {
   "codemirror_mode": {
    "name": "ipython",
    "version": 3
   },
   "file_extension": ".py",
   "mimetype": "text/x-python",
   "name": "python",
   "nbconvert_exporter": "python",
   "pygments_lexer": "ipython3",
   "version": "3.10.6"
  },
  "orig_nbformat": 4,
  "vscode": {
   "interpreter": {
    "hash": "8067871d1d0a2a4071e2339831fc76617fc2c3eeb09b72735f92026d568ae05b"
   }
  }
 },
 "nbformat": 4,
 "nbformat_minor": 2
}
