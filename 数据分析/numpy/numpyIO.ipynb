{
 "cells": [
  {
   "cell_type": "code",
   "execution_count": 14,
   "metadata": {},
   "outputs": [],
   "source": [
    "import numpy as np\n",
    "from IPython.core.interactiveshell import InteractiveShell\n",
    "InteractiveShell.ast_node_interactivity = 'all'"
   ]
  },
  {
   "cell_type": "code",
   "execution_count": 15,
   "metadata": {},
   "outputs": [
    {
     "data": {
      "text/plain": [
       "array([[0.24024323, 0.34132515, 0.50050058, 0.79146315, 0.73414909],\n",
       "       [0.99496251, 0.45196409, 0.25689666, 0.096035  , 0.07426025],\n",
       "       [0.77290663, 0.81768643, 0.99684722, 0.37160459, 0.04310843],\n",
       "       [0.85648707, 0.11904628, 0.10611208, 0.71501486, 0.68340595]])"
      ]
     },
     "execution_count": 15,
     "metadata": {},
     "output_type": "execute_result"
    },
    {
     "data": {
      "text/plain": [
       "array([[ 0.,  1.,  2.,  3.,  4.],\n",
       "       [ 5.,  6.,  7.,  8.,  9.],\n",
       "       [10., 11., 12., 13., 14.],\n",
       "       [15., 16., 17., 18., 19.]])"
      ]
     },
     "execution_count": 15,
     "metadata": {},
     "output_type": "execute_result"
    }
   ],
   "source": [
    "x = np.random.random(size=(4,5))\n",
    "y = np.linspace(0,19,num=20).reshape(4,5)\n",
    "x\n",
    "y"
   ]
  },
  {
   "cell_type": "code",
   "execution_count": 17,
   "metadata": {},
   "outputs": [],
   "source": [
    "np.save('out.npy',x)"
   ]
  },
  {
   "cell_type": "code",
   "execution_count": 18,
   "metadata": {},
   "outputs": [
    {
     "data": {
      "text/plain": [
       "array([[0.24024323, 0.34132515, 0.50050058, 0.79146315, 0.73414909],\n",
       "       [0.99496251, 0.45196409, 0.25689666, 0.096035  , 0.07426025],\n",
       "       [0.77290663, 0.81768643, 0.99684722, 0.37160459, 0.04310843],\n",
       "       [0.85648707, 0.11904628, 0.10611208, 0.71501486, 0.68340595]])"
      ]
     },
     "execution_count": 18,
     "metadata": {},
     "output_type": "execute_result"
    }
   ],
   "source": [
    "np.load('out.npy')"
   ]
  },
  {
   "cell_type": "code",
   "execution_count": 5,
   "metadata": {},
   "outputs": [
    {
     "data": {
      "text/plain": [
       "numpy.ndarray"
      ]
     },
     "execution_count": 5,
     "metadata": {},
     "output_type": "execute_result"
    }
   ],
   "source": [
    "type(_)"
   ]
  },
  {
   "cell_type": "code",
   "execution_count": 19,
   "metadata": {},
   "outputs": [],
   "source": [
    "np.savez('out2.npz',x,y)"
   ]
  },
  {
   "cell_type": "code",
   "execution_count": 7,
   "metadata": {},
   "outputs": [
    {
     "data": {
      "text/plain": [
       "<numpy.lib.npyio.NpzFile at 0xffffa163ff40>"
      ]
     },
     "execution_count": 7,
     "metadata": {},
     "output_type": "execute_result"
    }
   ],
   "source": [
    "np.load('out2.npz')"
   ]
  },
  {
   "cell_type": "code",
   "execution_count": 20,
   "metadata": {},
   "outputs": [],
   "source": [
    "a2 = np.load('out2.npz')"
   ]
  },
  {
   "cell_type": "code",
   "execution_count": 21,
   "metadata": {},
   "outputs": [
    {
     "data": {
      "text/plain": [
       "array([[0.24024323, 0.34132515, 0.50050058, 0.79146315, 0.73414909],\n",
       "       [0.99496251, 0.45196409, 0.25689666, 0.096035  , 0.07426025],\n",
       "       [0.77290663, 0.81768643, 0.99684722, 0.37160459, 0.04310843],\n",
       "       [0.85648707, 0.11904628, 0.10611208, 0.71501486, 0.68340595]])"
      ]
     },
     "execution_count": 21,
     "metadata": {},
     "output_type": "execute_result"
    }
   ],
   "source": [
    "a2['arr_0']  # 默认为arr_0,arr_1， 除非保存时指定关键字\n"
   ]
  },
  {
   "cell_type": "code",
   "execution_count": 22,
   "metadata": {},
   "outputs": [],
   "source": [
    "np.savez('out3.npz',a=x,y=y)\n",
    "a3 = np.load('out3.npz')"
   ]
  },
  {
   "cell_type": "code",
   "execution_count": 24,
   "metadata": {},
   "outputs": [
    {
     "data": {
      "text/plain": [
       "array([[0.24024323, 0.34132515, 0.50050058, 0.79146315, 0.73414909],\n",
       "       [0.99496251, 0.45196409, 0.25689666, 0.096035  , 0.07426025],\n",
       "       [0.77290663, 0.81768643, 0.99684722, 0.37160459, 0.04310843],\n",
       "       [0.85648707, 0.11904628, 0.10611208, 0.71501486, 0.68340595]])"
      ]
     },
     "execution_count": 24,
     "metadata": {},
     "output_type": "execute_result"
    }
   ],
   "source": [
    "a3['a']"
   ]
  },
  {
   "cell_type": "code",
   "execution_count": 12,
   "metadata": {},
   "outputs": [
    {
     "data": {
      "text/plain": [
       "array([[0.60122879, 0.30774197, 0.60887845, 0.35814238, 0.91168724],\n",
       "       [0.44746459, 0.08916946, 0.11618089, 0.31874207, 0.52482715],\n",
       "       [0.95731889, 0.44171602, 0.05777017, 0.16709724, 0.24486649],\n",
       "       [0.51064635, 0.69734866, 0.68033916, 0.18316742, 0.91457297]])"
      ]
     },
     "execution_count": 12,
     "metadata": {},
     "output_type": "execute_result"
    }
   ],
   "source": [
    "np.savetxt('arrtxt.txt',x,delimiter=':') # 默认为科学计数法\n",
    "np.savetxt('arrtxtgz.gz',x) #支持直接读写压缩格式.gz\n",
    "arr2 = np.loadtxt('arrtxt.txt',delimiter=':')\n",
    "arr2"
   ]
  }
 ],
 "metadata": {
  "kernelspec": {
   "display_name": "Python 3.10.5 64-bit",
   "language": "python",
   "name": "python3"
  },
  "language_info": {
   "codemirror_mode": {
    "name": "ipython",
    "version": 3
   },
   "file_extension": ".py",
   "mimetype": "text/x-python",
   "name": "python",
   "nbconvert_exporter": "python",
   "pygments_lexer": "ipython3",
   "version": "3.10.5"
  },
  "orig_nbformat": 4,
  "vscode": {
   "interpreter": {
    "hash": "aee8b7b246df8f9039afb4144a1f6fd8d2ca17a180786b69acc140d282b71a49"
   }
  }
 },
 "nbformat": 4,
 "nbformat_minor": 2
}
