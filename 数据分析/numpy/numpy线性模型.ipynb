{
 "cells": [
  {
   "cell_type": "code",
   "execution_count": 9,
   "metadata": {},
   "outputs": [],
   "source": [
    "from numpy.linalg import eig\n",
    "import numpy as np\n",
    "import datetime as dt\n",
    "from IPython.core.interactiveshell import InteractiveShell\n",
    "InteractiveShell.ast_node_interactivity = 'all'"
   ]
  },
  {
   "cell_type": "markdown",
   "metadata": {},
   "source": [
    "### 线性方程求解"
   ]
  },
  {
   "cell_type": "code",
   "execution_count": 7,
   "metadata": {},
   "outputs": [],
   "source": [
    "def changeDate(dmy):\n",
    "    dmy = str(dmy, encoding='utf-8')\n",
    "    ti = dt.datetime.strptime(dmy, '%Y%m%d').date()\n",
    "    t = ti.strftime('%Y-%m-%d')\n",
    "    return t\n",
    "\n",
    "\n",
    "stock = np.loadtxt('000607.csv', delimiter=',', usecols=(0, 2, 3, 4, 5),\n",
    "                   skiprows=4000,\n",
    "                   unpack=True,\n",
    "                   max_rows=120,\n",
    "                   dtype='M8[D],f8,f8,f8,f8', converters={0: changeDate})\n",
    "\n",
    "dates, opening_prices, highest_prices, lowest_prices, closing_prices = stock"
   ]
  },
  {
   "cell_type": "markdown",
   "metadata": {},
   "source": [
    "<pre>\n",
    "ax + by + cz = d\n",
    "bx + cy + dz = e\n",
    "cx + dy + ez = f \n",
    "\n",
    "</pre>"
   ]
  },
  {
   "cell_type": "markdown",
   "metadata": {},
   "source": [
    "$$\n",
    "\\left[ \\begin{array}{cccc}\n",
    "a & b & c \\\\\n",
    "b & c & d \\\\\n",
    "c & d & e \\\\\n",
    "\\end{array} \n",
    "\\right ]\n",
    "\\times\n",
    "\\left[ \\begin{array}{ccc}\n",
    "w_0\\\\\n",
    "w_1\\\\\n",
    "w_2\\\\\n",
    "\\end{array} \n",
    "\\right ]=\n",
    "\\left[ \n",
    "\\begin{array}{ccc}\n",
    "d\\\\\n",
    "e\\\\\n",
    "f\\\\\n",
    "\\end{array} \n",
    "\\right ]\n",
    "\\\\\n",
    "\\quad \\quad  A \\quad \\quad \\quad \\quad \\quad  x\\quad \\quad \\quad \\quad B  \\quad\n",
    "$$\n",
    "x = np.linalg.lstsq(A,B)[0]"
   ]
  },
  {
   "cell_type": "code",
   "execution_count": 14,
   "metadata": {},
   "outputs": [
    {
     "data": {
      "text/plain": [
       "array([[3.99, 3.96, 3.56],\n",
       "       [3.96, 3.56, 3.42],\n",
       "       [3.56, 3.42, 3.38]])"
      ]
     },
     "execution_count": 14,
     "metadata": {},
     "output_type": "execute_result"
    },
    {
     "data": {
      "text/plain": [
       "array([3.42, 3.38, 3.38])"
      ]
     },
     "execution_count": 14,
     "metadata": {},
     "output_type": "execute_result"
    },
    {
     "data": {
      "text/plain": [
       "array([-0.00365905, -0.38874558,  1.39720003])"
      ]
     },
     "execution_count": 14,
     "metadata": {},
     "output_type": "execute_result"
    }
   ],
   "source": [
    "A = np.zeros((3, 3))\n",
    "for j in range(3):\n",
    "    A[j,] = closing_prices[j: j + 3]\n",
    "B = closing_prices[3: 6]\n",
    "A\n",
    "B\n",
    "x = np.linalg.lstsq(A,B, rcond=None)[0]\n",
    "x"
   ]
  },
  {
   "cell_type": "code",
   "execution_count": 15,
   "metadata": {},
   "outputs": [
    {
     "data": {
      "text/plain": [
       "3.3960620902035212"
      ]
     },
     "execution_count": 15,
     "metadata": {},
     "output_type": "execute_result"
    }
   ],
   "source": [
    "B.dot(x)"
   ]
  },
  {
   "cell_type": "code",
   "execution_count": 16,
   "metadata": {},
   "outputs": [
    {
     "data": {
      "text/plain": [
       "3.38"
      ]
     },
     "execution_count": 16,
     "metadata": {},
     "output_type": "execute_result"
    }
   ],
   "source": [
    "true_value = closing_prices[6]\n",
    "true_value"
   ]
  },
  {
   "cell_type": "markdown",
   "metadata": {},
   "source": [
    "### 线性拟合"
   ]
  },
  {
   "cell_type": "markdown",
   "metadata": {},
   "source": [
    "### 多项式拟合"
   ]
  },
  {
   "cell_type": "markdown",
   "metadata": {},
   "source": []
  }
 ],
 "metadata": {
  "kernelspec": {
   "display_name": "Python 3.10.6 64-bit",
   "language": "python",
   "name": "python3"
  },
  "language_info": {
   "codemirror_mode": {
    "name": "ipython",
    "version": 3
   },
   "file_extension": ".py",
   "mimetype": "text/x-python",
   "name": "python",
   "nbconvert_exporter": "python",
   "pygments_lexer": "ipython3",
   "version": "3.10.6"
  },
  "orig_nbformat": 4,
  "vscode": {
   "interpreter": {
    "hash": "8067871d1d0a2a4071e2339831fc76617fc2c3eeb09b72735f92026d568ae05b"
   }
  }
 },
 "nbformat": 4,
 "nbformat_minor": 2
}
