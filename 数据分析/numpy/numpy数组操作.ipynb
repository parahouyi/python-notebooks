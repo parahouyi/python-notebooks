{
 "cells": [
  {
   "cell_type": "code",
   "execution_count": 18,
   "metadata": {},
   "outputs": [],
   "source": [
    "import numpy as np\n",
    "from IPython.core.interactiveshell import InteractiveShell\n",
    "InteractiveShell.ast_node_interactivity = 'all'"
   ]
  },
  {
   "cell_type": "markdown",
   "metadata": {},
   "source": [
    "X在运行X[:]=X+Y前后id相同，说明指向一个内存区域。\n",
    "使用X=X+Y与X += Y的区别"
   ]
  },
  {
   "cell_type": "code",
   "execution_count": null,
   "metadata": {},
   "outputs": [],
   "source": [
    "a1 = np.arange(4)\n",
    "a2 = np.arange(3,7)\n",
    "a1,a2\n",
    "np.row_stack((a1,a2))"
   ]
  },
  {
   "cell_type": "code",
   "execution_count": 19,
   "metadata": {},
   "outputs": [],
   "source": [
    "x = np.arange(60).reshape(3,1,4,5)"
   ]
  },
  {
   "cell_type": "code",
   "execution_count": 20,
   "metadata": {},
   "outputs": [
    {
     "data": {
      "text/plain": [
       "(array([[[[ 0,  1,  2,  3,  4],\n",
       "          [ 5,  6,  7,  8,  9],\n",
       "          [10, 11, 12, 13, 14],\n",
       "          [15, 16, 17, 18, 19]]],\n",
       " \n",
       " \n",
       "        [[[20, 21, 22, 23, 24],\n",
       "          [25, 26, 27, 28, 29],\n",
       "          [30, 31, 32, 33, 34],\n",
       "          [35, 36, 37, 38, 39]]],\n",
       " \n",
       " \n",
       "        [[[40, 41, 42, 43, 44],\n",
       "          [45, 46, 47, 48, 49],\n",
       "          [50, 51, 52, 53, 54],\n",
       "          [55, 56, 57, 58, 59]]]]),\n",
       " array([[[[ 0, 20, 40]],\n",
       " \n",
       "         [[ 5, 25, 45]],\n",
       " \n",
       "         [[10, 30, 50]],\n",
       " \n",
       "         [[15, 35, 55]]],\n",
       " \n",
       " \n",
       "        [[[ 1, 21, 41]],\n",
       " \n",
       "         [[ 6, 26, 46]],\n",
       " \n",
       "         [[11, 31, 51]],\n",
       " \n",
       "         [[16, 36, 56]]],\n",
       " \n",
       " \n",
       "        [[[ 2, 22, 42]],\n",
       " \n",
       "         [[ 7, 27, 47]],\n",
       " \n",
       "         [[12, 32, 52]],\n",
       " \n",
       "         [[17, 37, 57]]],\n",
       " \n",
       " \n",
       "        [[[ 3, 23, 43]],\n",
       " \n",
       "         [[ 8, 28, 48]],\n",
       " \n",
       "         [[13, 33, 53]],\n",
       " \n",
       "         [[18, 38, 58]]],\n",
       " \n",
       " \n",
       "        [[[ 4, 24, 44]],\n",
       " \n",
       "         [[ 9, 29, 49]],\n",
       " \n",
       "         [[14, 34, 54]],\n",
       " \n",
       "         [[19, 39, 59]]]]),\n",
       " array([[[[ 0, 20, 40]],\n",
       " \n",
       "         [[ 5, 25, 45]],\n",
       " \n",
       "         [[10, 30, 50]],\n",
       " \n",
       "         [[15, 35, 55]]],\n",
       " \n",
       " \n",
       "        [[[ 1, 21, 41]],\n",
       " \n",
       "         [[ 6, 26, 46]],\n",
       " \n",
       "         [[11, 31, 51]],\n",
       " \n",
       "         [[16, 36, 56]]],\n",
       " \n",
       " \n",
       "        [[[ 2, 22, 42]],\n",
       " \n",
       "         [[ 7, 27, 47]],\n",
       " \n",
       "         [[12, 32, 52]],\n",
       " \n",
       "         [[17, 37, 57]]],\n",
       " \n",
       " \n",
       "        [[[ 3, 23, 43]],\n",
       " \n",
       "         [[ 8, 28, 48]],\n",
       " \n",
       "         [[13, 33, 53]],\n",
       " \n",
       "         [[18, 38, 58]]],\n",
       " \n",
       " \n",
       "        [[[ 4, 24, 44]],\n",
       " \n",
       "         [[ 9, 29, 49]],\n",
       " \n",
       "         [[14, 34, 54]],\n",
       " \n",
       "         [[19, 39, 59]]]]))"
      ]
     },
     "execution_count": 20,
     "metadata": {},
     "output_type": "execute_result"
    },
    {
     "data": {
      "text/plain": [
       "(3, 1, 4, 5)"
      ]
     },
     "execution_count": 20,
     "metadata": {},
     "output_type": "execute_result"
    },
    {
     "data": {
      "text/plain": [
       "(5, 4, 1, 3)"
      ]
     },
     "execution_count": 20,
     "metadata": {},
     "output_type": "execute_result"
    }
   ],
   "source": [
    "x,x.T,x.transpose()  # 转置后形成了5页4行三列，是0轴和-1轴的交换？非也，是形状的完全倒置\n",
    "x.shape\n",
    "x.T.shape"
   ]
  },
  {
   "cell_type": "code",
   "execution_count": 21,
   "metadata": {},
   "outputs": [
    {
     "data": {
      "text/plain": [
       "(array([[[[ 0,  1,  2,  3,  4],\n",
       "          [ 5,  6,  7,  8,  9],\n",
       "          [10, 11, 12, 13, 14],\n",
       "          [15, 16, 17, 18, 19]]],\n",
       " \n",
       " \n",
       "        [[[20, 21, 22, 23, 24],\n",
       "          [25, 26, 27, 28, 29],\n",
       "          [30, 31, 32, 33, 34],\n",
       "          [35, 36, 37, 38, 39]]],\n",
       " \n",
       " \n",
       "        [[[40, 41, 42, 43, 44],\n",
       "          [45, 46, 47, 48, 49],\n",
       "          [50, 51, 52, 53, 54],\n",
       "          [55, 56, 57, 58, 59]]]]),\n",
       " array([[[[ 0,  1,  2,  3,  4],\n",
       "          [ 5,  6,  7,  8,  9],\n",
       "          [10, 11, 12, 13, 14],\n",
       "          [15, 16, 17, 18, 19]],\n",
       " \n",
       "         [[20, 21, 22, 23, 24],\n",
       "          [25, 26, 27, 28, 29],\n",
       "          [30, 31, 32, 33, 34],\n",
       "          [35, 36, 37, 38, 39]],\n",
       " \n",
       "         [[40, 41, 42, 43, 44],\n",
       "          [45, 46, 47, 48, 49],\n",
       "          [50, 51, 52, 53, 54],\n",
       "          [55, 56, 57, 58, 59]]]]))"
      ]
     },
     "execution_count": 21,
     "metadata": {},
     "output_type": "execute_result"
    }
   ],
   "source": [
    "y = x.swapaxes(0,1)\n",
    "x,y"
   ]
  },
  {
   "cell_type": "code",
   "execution_count": 22,
   "metadata": {},
   "outputs": [
    {
     "data": {
      "text/plain": [
       "array([[ 1,  2,  3,  4],\n",
       "       [ 5,  6,  7,  8],\n",
       "       [ 9, 10, 11, 12]])"
      ]
     },
     "execution_count": 22,
     "metadata": {},
     "output_type": "execute_result"
    },
    {
     "data": {
      "text/plain": [
       "array([[ 1,  5,  9],\n",
       "       [ 2,  6, 10],\n",
       "       [ 3,  7, 11],\n",
       "       [ 4,  8, 12]])"
      ]
     },
     "execution_count": 22,
     "metadata": {},
     "output_type": "execute_result"
    }
   ],
   "source": [
    "z = np.arange(1,13,1).reshape(3,4)\n",
    "z\n",
    "np.moveaxis(z,0,1)"
   ]
  },
  {
   "cell_type": "code",
   "execution_count": 23,
   "metadata": {},
   "outputs": [
    {
     "data": {
      "text/plain": [
       "array([[ 1,  2,  3,  4],\n",
       "       [ 5,  6,  7,  8],\n",
       "       [ 9, 10, 11, 12]])"
      ]
     },
     "execution_count": 23,
     "metadata": {},
     "output_type": "execute_result"
    },
    {
     "data": {
      "text/plain": [
       "array([[ 1,  2,  3,  4,  5,  6,  7,  8],\n",
       "       [ 9, 10, 11, 12,  1,  2,  3,  4],\n",
       "       [ 5,  6,  7,  8,  9, 10, 11, 12],\n",
       "       [ 1,  2,  3,  4,  5,  6,  7,  8]])"
      ]
     },
     "execution_count": 23,
     "metadata": {},
     "output_type": "execute_result"
    },
    {
     "data": {
      "text/plain": [
       "array([[1, 2, 3],\n",
       "       [4, 5, 6]])"
      ]
     },
     "execution_count": 23,
     "metadata": {},
     "output_type": "execute_result"
    }
   ],
   "source": [
    "z\n",
    "np.resize(z,(4,8))  # 所有元素循环填充\n",
    "np.resize(z,(2,3))"
   ]
  },
  {
   "cell_type": "code",
   "execution_count": 24,
   "metadata": {},
   "outputs": [
    {
     "data": {
      "text/plain": [
       "array([   1,    2,    3,    4,    5,    6,    7,    8,    9,   10,   11,\n",
       "         12,  222, 3333,   22,   44])"
      ]
     },
     "execution_count": 24,
     "metadata": {},
     "output_type": "execute_result"
    },
    {
     "data": {
      "text/plain": [
       "array([[ 1,  2,  3,  4],\n",
       "       [ 5,  6,  7,  8],\n",
       "       [ 9, 10, 11, 12]])"
      ]
     },
     "execution_count": 24,
     "metadata": {},
     "output_type": "execute_result"
    }
   ],
   "source": [
    "np.append(z,values=[222,3333,22,44])\n",
    "z"
   ]
  },
  {
   "cell_type": "code",
   "execution_count": 25,
   "metadata": {},
   "outputs": [
    {
     "data": {
      "text/plain": [
       "array([   1,    2,    3,    4,    5,    6,    7,    8,    9,   10,   11,\n",
       "         12,  222, 3333,   22,   44])"
      ]
     },
     "execution_count": 25,
     "metadata": {},
     "output_type": "execute_result"
    },
    {
     "data": {
      "text/plain": [
       "array([[ 1,  2,  3,  4],\n",
       "       [ 5,  6,  7,  8],\n",
       "       [ 9, 10, 11, 12]])"
      ]
     },
     "execution_count": 25,
     "metadata": {},
     "output_type": "execute_result"
    }
   ],
   "source": [
    "np.append(z,values=[[222,3333,22,44]])  # 不指定axis时，数组会被展开，都是成为一维数组\n",
    "z"
   ]
  },
  {
   "cell_type": "code",
   "execution_count": 26,
   "metadata": {},
   "outputs": [
    {
     "data": {
      "text/plain": [
       "array([    1,     2,     3,     4,     5,     6,     7,     8,     9,\n",
       "          10,    11,    12,   222,  3333,    22,    44, 22223,   999,\n",
       "          77,    99])"
      ]
     },
     "execution_count": 26,
     "metadata": {},
     "output_type": "execute_result"
    },
    {
     "data": {
      "text/plain": [
       "array([[ 1,  2,  3,  4],\n",
       "       [ 5,  6,  7,  8],\n",
       "       [ 9, 10, 11, 12]])"
      ]
     },
     "execution_count": 26,
     "metadata": {},
     "output_type": "execute_result"
    }
   ],
   "source": [
    "np.append(z,values=[[222,3333,22,44],[22223,999,77,99]])\n",
    "z"
   ]
  },
  {
   "cell_type": "code",
   "execution_count": 27,
   "metadata": {},
   "outputs": [
    {
     "data": {
      "text/plain": [
       "array([[   1,    2,    3,    4],\n",
       "       [   5,    6,    7,    8],\n",
       "       [   9,   10,   11,   12],\n",
       "       [ 222, 3333,   22,   44]])"
      ]
     },
     "execution_count": 27,
     "metadata": {},
     "output_type": "execute_result"
    }
   ],
   "source": [
    "np.append(z,values=[[222,3333,22,44]], axis=0)  # 维数相等才可，相当于vstack"
   ]
  },
  {
   "cell_type": "code",
   "execution_count": 28,
   "metadata": {},
   "outputs": [
    {
     "data": {
      "text/plain": [
       "array([[   1,    2,    3,    4,  222],\n",
       "       [   5,    6,    7,    8, 3333],\n",
       "       [   9,   10,   11,   12,   22]])"
      ]
     },
     "execution_count": 28,
     "metadata": {},
     "output_type": "execute_result"
    }
   ],
   "source": [
    "np.append(z,values=[[222],[3333],[22]], axis=1) # 相当于hstack，在添加的轴上数量相等，这里必须是一个三行一列的列向量"
   ]
  },
  {
   "cell_type": "code",
   "execution_count": 29,
   "metadata": {},
   "outputs": [
    {
     "data": {
      "text/plain": [
       "array([[ 222, 3333,   22,    1,    2,    3,    4],\n",
       "       [ 222, 3333,   22,    5,    6,    7,    8],\n",
       "       [ 222, 3333,   22,    9,   10,   11,   12]])"
      ]
     },
     "execution_count": 29,
     "metadata": {},
     "output_type": "execute_result"
    },
    {
     "data": {
      "text/plain": [
       "array([[ 1,  2,  3,  4],\n",
       "       [ 5,  6,  7,  8],\n",
       "       [ 9, 10, 11, 12]])"
      ]
     },
     "execution_count": 29,
     "metadata": {},
     "output_type": "execute_result"
    }
   ],
   "source": [
    "np.insert(z,obj=0,values=[[222],[3333],[22]], axis=1)  # 不是只应该插入一组吗，为什么会被广播？？？跟想象不一样\n",
    "z"
   ]
  },
  {
   "cell_type": "code",
   "execution_count": 30,
   "metadata": {},
   "outputs": [
    {
     "data": {
      "text/plain": [
       "array([99, 88, 77, 66,  1,  2,  3,  4,  5,  6,  7,  8,  9, 10, 11, 12])"
      ]
     },
     "execution_count": 30,
     "metadata": {},
     "output_type": "execute_result"
    }
   ],
   "source": [
    "np.insert(z,obj=0,values=[99,88,77,66])"
   ]
  },
  {
   "cell_type": "code",
   "execution_count": 31,
   "metadata": {},
   "outputs": [
    {
     "data": {
      "text/plain": [
       "array([[ 1,  2,  3,  4],\n",
       "       [99, 88, 77, 66],\n",
       "       [ 5,  6,  7,  8],\n",
       "       [ 9, 10, 11, 12]])"
      ]
     },
     "execution_count": 31,
     "metadata": {},
     "output_type": "execute_result"
    }
   ],
   "source": [
    "np.insert(z,obj=1,values=[99,88,77,66], axis=0) # 与append不一样，插入的不是同维数的数组，而是一个一维的即可"
   ]
  },
  {
   "cell_type": "code",
   "execution_count": 32,
   "metadata": {},
   "outputs": [
    {
     "data": {
      "text/plain": [
       "array([[98,  1,  2,  3,  4],\n",
       "       [97,  5,  6,  7,  8],\n",
       "       [96,  9, 10, 11, 12]])"
      ]
     },
     "execution_count": 32,
     "metadata": {},
     "output_type": "execute_result"
    }
   ],
   "source": [
    "np.insert(z,obj=0,values=[98,97,96], axis=1)"
   ]
  },
  {
   "cell_type": "code",
   "execution_count": 33,
   "metadata": {},
   "outputs": [
    {
     "data": {
      "text/plain": [
       "array([[2222,    1,    2,    3,    4],\n",
       "       [2222,    5,    6,    7,    8],\n",
       "       [2222,    9,   10,   11,   12]])"
      ]
     },
     "execution_count": 33,
     "metadata": {},
     "output_type": "execute_result"
    }
   ],
   "source": [
    "np.insert(z,obj=0,values=2222, axis=1) # 广播机制"
   ]
  },
  {
   "cell_type": "code",
   "execution_count": 34,
   "metadata": {},
   "outputs": [
    {
     "ename": "ValueError",
     "evalue": "all the input arrays must have same number of dimensions, but the array at index 0 has 2 dimension(s) and the array at index 1 has 0 dimension(s)",
     "output_type": "error",
     "traceback": [
      "\u001b[0;31m---------------------------------------------------------------------------\u001b[0m",
      "\u001b[0;31mValueError\u001b[0m                                Traceback (most recent call last)",
      "\u001b[1;32m/home/simon/Desktop/numpy/numpy数组操作.ipynb Cell 17\u001b[0m in \u001b[0;36m<cell line: 1>\u001b[0;34m()\u001b[0m\n\u001b[0;32m----> <a href='vscode-notebook-cell:/home/simon/Desktop/numpy/numpy%E6%95%B0%E7%BB%84%E6%93%8D%E4%BD%9C.ipynb#ch0000016?line=0'>1</a>\u001b[0m np\u001b[39m.\u001b[39;49mappend(z,\u001b[39m333333\u001b[39;49m,axis\u001b[39m=\u001b[39;49m\u001b[39m0\u001b[39;49m)\n",
      "File \u001b[0;32m<__array_function__ internals>:180\u001b[0m, in \u001b[0;36mappend\u001b[0;34m(*args, **kwargs)\u001b[0m\n",
      "File \u001b[0;32m~/.local/lib/python3.10/site-packages/numpy/lib/function_base.py:5440\u001b[0m, in \u001b[0;36mappend\u001b[0;34m(arr, values, axis)\u001b[0m\n\u001b[1;32m   5438\u001b[0m     values \u001b[39m=\u001b[39m ravel(values)\n\u001b[1;32m   5439\u001b[0m     axis \u001b[39m=\u001b[39m arr\u001b[39m.\u001b[39mndim\u001b[39m-\u001b[39m\u001b[39m1\u001b[39m\n\u001b[0;32m-> 5440\u001b[0m \u001b[39mreturn\u001b[39;00m concatenate((arr, values), axis\u001b[39m=\u001b[39;49maxis)\n",
      "File \u001b[0;32m<__array_function__ internals>:180\u001b[0m, in \u001b[0;36mconcatenate\u001b[0;34m(*args, **kwargs)\u001b[0m\n",
      "\u001b[0;31mValueError\u001b[0m: all the input arrays must have same number of dimensions, but the array at index 0 has 2 dimension(s) and the array at index 1 has 0 dimension(s)"
     ]
    }
   ],
   "source": [
    "np.append(z,333333,axis=0)  # append不支持广播机制"
   ]
  },
  {
   "cell_type": "code",
   "execution_count": null,
   "metadata": {},
   "outputs": [
    {
     "data": {
      "text/plain": [
       "array([ 1,  2,  3,  4,  5,  6,  7,  8,  9, 10, 11])"
      ]
     },
     "execution_count": 47,
     "metadata": {},
     "output_type": "execute_result"
    }
   ],
   "source": [
    "np.delete(z,11) # 这里的11是索引，而不是具体值"
   ]
  },
  {
   "cell_type": "code",
   "execution_count": null,
   "metadata": {},
   "outputs": [
    {
     "data": {
      "text/plain": [
       "array([[ 1,  3,  4],\n",
       "       [ 5,  7,  8],\n",
       "       [ 9, 11, 12]])"
      ]
     },
     "execution_count": 49,
     "metadata": {},
     "output_type": "execute_result"
    }
   ],
   "source": [
    "np.delete(z,1,axis=1)"
   ]
  },
  {
   "cell_type": "code",
   "execution_count": null,
   "metadata": {},
   "outputs": [
    {
     "data": {
      "text/plain": [
       "array([[ 1,  2,  3,  4],\n",
       "       [ 9, 10, 11, 12]])"
      ]
     },
     "execution_count": 50,
     "metadata": {},
     "output_type": "execute_result"
    }
   ],
   "source": [
    "np.delete(z,1,axis=0)"
   ]
  },
  {
   "cell_type": "code",
   "execution_count": null,
   "metadata": {},
   "outputs": [
    {
     "data": {
      "text/plain": [
       "array([[3, 2, 3, 4, 6],\n",
       "       [5, 4, 3, 4, 5],\n",
       "       [8, 1, 1, 6, 2],\n",
       "       [8, 1, 4, 6, 5]])"
      ]
     },
     "execution_count": 51,
     "metadata": {},
     "output_type": "execute_result"
    }
   ],
   "source": [
    "w = np.random.randint(1,9,size=(4,5))\n",
    "w"
   ]
  },
  {
   "cell_type": "code",
   "execution_count": null,
   "metadata": {},
   "outputs": [
    {
     "data": {
      "text/plain": [
       "array([1, 2, 3, 4, 5, 6, 8])"
      ]
     },
     "execution_count": 52,
     "metadata": {},
     "output_type": "execute_result"
    }
   ],
   "source": [
    "np.unique(w)"
   ]
  },
  {
   "cell_type": "code",
   "execution_count": null,
   "metadata": {},
   "outputs": [
    {
     "data": {
      "text/plain": [
       "(array([1, 2, 3, 4, 5, 6, 8]), array([11,  1,  0,  3,  5,  4, 10]))"
      ]
     },
     "execution_count": 53,
     "metadata": {},
     "output_type": "execute_result"
    }
   ],
   "source": [
    "np.unique(w,return_index=True)"
   ]
  },
  {
   "cell_type": "code",
   "execution_count": null,
   "metadata": {},
   "outputs": [
    {
     "data": {
      "text/plain": [
       "(array([1, 2, 3, 4, 5, 6, 8]),\n",
       " array([11,  1,  0,  3,  5,  4, 10]),\n",
       " array([2, 1, 2, 3, 5, 4, 3, 2, 3, 4, 6, 0, 0, 5, 1, 6, 0, 3, 5, 4]))"
      ]
     },
     "execution_count": 54,
     "metadata": {},
     "output_type": "execute_result"
    }
   ],
   "source": [
    "np.unique(w,return_index=True, return_inverse=True)"
   ]
  },
  {
   "cell_type": "code",
   "execution_count": null,
   "metadata": {},
   "outputs": [
    {
     "data": {
      "text/plain": [
       "(array([1, 2, 3, 4, 5, 6, 8]),\n",
       " array([11,  1,  0,  3,  5,  4, 10]),\n",
       " array([2, 1, 2, 3, 5, 4, 3, 2, 3, 4, 6, 0, 0, 5, 1, 6, 0, 3, 5, 4]),\n",
       " array([3, 2, 3, 4, 3, 3, 2]))"
      ]
     },
     "execution_count": 55,
     "metadata": {},
     "output_type": "execute_result"
    }
   ],
   "source": [
    "np.unique(w,return_index=True, return_inverse=True, return_counts=True)"
   ]
  },
  {
   "cell_type": "code",
   "execution_count": 36,
   "metadata": {},
   "outputs": [
    {
     "data": {
      "text/plain": [
       "(array([1, 1, 1, 1, 2, 2, 2, 2]), array([0, 1, 2, 3, 0, 1, 2, 3]))"
      ]
     },
     "execution_count": 36,
     "metadata": {},
     "output_type": "execute_result"
    }
   ],
   "source": [
    "np.where(z>4)"
   ]
  },
  {
   "cell_type": "code",
   "execution_count": 37,
   "metadata": {},
   "outputs": [
    {
     "data": {
      "text/plain": [
       "array([ 5,  6,  7,  8,  9, 10, 11, 12])"
      ]
     },
     "execution_count": 37,
     "metadata": {},
     "output_type": "execute_result"
    }
   ],
   "source": [
    "z[_]"
   ]
  },
  {
   "cell_type": "code",
   "execution_count": 38,
   "metadata": {},
   "outputs": [
    {
     "data": {
      "text/plain": [
       "array([ 5,  6,  7,  8,  9, 10, 11, 12])"
      ]
     },
     "execution_count": 38,
     "metadata": {},
     "output_type": "execute_result"
    }
   ],
   "source": [
    "np.extract(z>4,z) # 相当于把获得布尔索引和用布尔索引获取数据两步合一"
   ]
  }
 ],
 "metadata": {
  "kernelspec": {
   "display_name": "Python 3.10.6 64-bit",
   "language": "python",
   "name": "python3"
  },
  "language_info": {
   "codemirror_mode": {
    "name": "ipython",
    "version": 3
   },
   "file_extension": ".py",
   "mimetype": "text/x-python",
   "name": "python",
   "nbconvert_exporter": "python",
   "pygments_lexer": "ipython3",
   "version": "3.10.6"
  },
  "orig_nbformat": 4,
  "vscode": {
   "interpreter": {
    "hash": "8067871d1d0a2a4071e2339831fc76617fc2c3eeb09b72735f92026d568ae05b"
   }
  }
 },
 "nbformat": 4,
 "nbformat_minor": 2
}
