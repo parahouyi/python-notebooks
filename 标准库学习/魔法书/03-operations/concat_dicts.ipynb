{
 "cells": [
  {
   "cell_type": "markdown",
   "metadata": {},
   "source": [
    "## 合并字典的 7 种方法\n"
   ]
  },
  {
   "cell_type": "markdown",
   "metadata": {},
   "source": [
    "1、最简单的原地更新\n",
    "\n",
    "字典对象内置了一个 update 方法，用于把另一个字典更新到自己身上。\n"
   ]
  },
  {
   "cell_type": "code",
   "execution_count": 2,
   "metadata": {},
   "outputs": [
    {
     "name": "stdout",
     "output_type": "stream",
     "text": [
      "{'name': 'xiaoming', 'age': 27, 'gender': 'male'}\n"
     ]
    }
   ],
   "source": [
    "\n",
    "profile = {\"name\": \"xiaoming\", \"age\": 27}\n",
    "ext_info = {\"gender\": \"male\"}\n",
    "\n",
    "profile.update(ext_info)\n",
    "print(profile)\n",
    "\n"
   ]
  },
  {
   "cell_type": "code",
   "execution_count": 4,
   "metadata": {},
   "outputs": [
    {
     "name": "stdout",
     "output_type": "stream",
     "text": [
      "{'name': 'xiaoming', 'age': 27, 'gender': 'male'}\n",
      "{'name': 'xiaoming', 'age': 27}\n"
     ]
    },
    {
     "data": {
      "text/plain": [
       "{'name': 'xiaoming', 'age': 27}"
      ]
     },
     "execution_count": 4,
     "metadata": {},
     "output_type": "execute_result"
    }
   ],
   "source": [
    "\n",
    "#如果想使用 update 这种最简单、最地道原生的方法，但又不想更新到自己身上，而是生成一个新的对象，那请使用深拷贝。\n",
    "\n",
    "profile = {\"name\": \"xiaoming\", \"age\": 27}\n",
    "ext_info = {\"gender\": \"male\"}\n",
    "\n",
    "from copy import deepcopy\n",
    "\n",
    "full_profile = deepcopy(profile)\n",
    "full_profile.update(ext_info)\n",
    "\n",
    "print(full_profile)\n",
    "{'name': 'xiaoming', 'age': 27, 'gender': 'male'}\n",
    "print(profile)\n",
    "{\"name\": \"xiaoming\", \"age\": 27}\n"
   ]
  },
  {
   "cell_type": "markdown",
   "metadata": {},
   "source": [
    "\n",
    "2、先解包再合并字典\n",
    "\n",
    "使用 ** 可以解包字典，解包完后再使用 dict 或者 {} 就可以合并。\n"
   ]
  },
  {
   "cell_type": "code",
   "execution_count": 5,
   "metadata": {},
   "outputs": [
    {
     "name": "stdout",
     "output_type": "stream",
     "text": [
      "{'name': 'xiaoming', 'age': 27, 'gender': 'male'}\n"
     ]
    }
   ],
   "source": [
    "\n",
    "profile = {\"name\": \"xiaoming\", \"age\": 27}\n",
    "ext_info = {\"gender\": \"male\"}\n",
    "\n",
    "full_profile01 = {**profile, **ext_info}\n",
    "print(full_profile01)\n"
   ]
  },
  {
   "cell_type": "code",
   "execution_count": 6,
   "metadata": {},
   "outputs": [
    {
     "name": "stdout",
     "output_type": "stream",
     "text": [
      "{'name': 'xiaoming', 'age': 27, 'gender': 'male'}\n"
     ]
    }
   ],
   "source": [
    "full_profile02 = dict(**profile, **ext_info)\n",
    "print(full_profile02)\n"
   ]
  },
  {
   "cell_type": "markdown",
   "metadata": {},
   "source": [
    "\n",
    "3、借助 itertools\n",
    "\n",
    "正好我们字典也是可迭代对象，自然就可以想到，可以使用 itertools.chain() 函数先将多个字典（可迭代对象）串联起来，组成一个更大的可迭代对象，然后再使用 dict 转成字典。\n"
   ]
  },
  {
   "cell_type": "code",
   "execution_count": 7,
   "metadata": {},
   "outputs": [
    {
     "data": {
      "text/plain": [
       "{'name': 'xiaoming', 'age': 27, 'gender': 'male'}"
      ]
     },
     "execution_count": 7,
     "metadata": {},
     "output_type": "execute_result"
    }
   ],
   "source": [
    "\n",
    "import itertools\n",
    "\n",
    "profile = {\"name\": \"xiaoming\", \"age\": 27}\n",
    "ext_info = {\"gender\": \"male\"}\n",
    "\n",
    "\n",
    "dict(itertools.chain(profile.items(), ext_info.items()))\n"
   ]
  },
  {
   "cell_type": "markdown",
   "metadata": {},
   "source": [
    "4、借助 ChainMap\n",
    "\n",
    "如果可以引入一个辅助包，那我就再提一个， ChainMap 也可以达到和 itertools 同样的效果。\n"
   ]
  },
  {
   "cell_type": "code",
   "execution_count": 8,
   "metadata": {},
   "outputs": [
    {
     "data": {
      "text/plain": [
       "{'gender': 'male', 'name': 'xiaoming', 'age': 27}"
      ]
     },
     "execution_count": 8,
     "metadata": {},
     "output_type": "execute_result"
    }
   ],
   "source": [
    "\n",
    "from collections import ChainMap\n",
    "\n",
    "profile = {\"name\": \"xiaoming\", \"age\": 27}\n",
    "ext_info = {\"gender\": \"male\"}\n",
    "\n",
    "dict(ChainMap(profile, ext_info))\n"
   ]
  },
  {
   "cell_type": "code",
   "execution_count": null,
   "metadata": {},
   "outputs": [],
   "source": [
    "\n",
    "\n",
    "5、使用dict.items() 合并\n",
    "\n",
    "profile = {\"name\": \"xiaoming\", \"age\": 27}\n",
    "ext_info = {\"gender\": \"male\"}\n",
    "\n",
    "full_profile = dict(profile.items() | ext_info.items())\n",
    "full_profile\n",
    "\n"
   ]
  },
  {
   "cell_type": "markdown",
   "metadata": {},
   "source": [
    "6、最酷炫的字典解析式\n",
    "\n",
    "Python 里对于生成列表、集合、字典，有一套非常 Pythonnic 的写法。\n",
    "\n",
    "那就是列表解析式，集合解析式和字典解析式，\n"
   ]
  },
  {
   "cell_type": "code",
   "execution_count": null,
   "metadata": {},
   "outputs": [],
   "source": [
    "\n",
    "profile = {\"name\": \"xiaoming\", \"age\": 27}\n",
    "ext_info = {\"gender\": \"male\"}\n",
    "\n",
    "{k:v for d in [profile, ext_info] for k,v in d.items()}\n",
    "{'name': 'xiaoming', 'age': 27, 'gender': 'male'}\n"
   ]
  },
  {
   "cell_type": "markdown",
   "metadata": {},
   "source": [
    "\n",
    "7、Python 3.9 新特性\n",
    "新操作符： |合并操作符（Union Operator）\n"
   ]
  },
  {
   "cell_type": "code",
   "execution_count": 12,
   "metadata": {},
   "outputs": [
    {
     "data": {
      "text/plain": [
       "{'gender': 'male', 'name': 'xiaoming', 'age': 27}"
      ]
     },
     "execution_count": 12,
     "metadata": {},
     "output_type": "execute_result"
    }
   ],
   "source": [
    "profile = {\"name\": \"xiaoming\", \"age\": 27}\n",
    "ext_info = {\"gender\": \"male\"}\n",
    "\n",
    "profile | ext_info\n",
    "ext_info | profile\n",
    "# 除了 | 操作符之外，还有另外一个操作符 |=，类似于原地更新。"
   ]
  }
 ],
 "metadata": {
  "kernelspec": {
   "display_name": "Python 3.10.6 64-bit",
   "language": "python",
   "name": "python3"
  },
  "language_info": {
   "codemirror_mode": {
    "name": "ipython",
    "version": 3
   },
   "file_extension": ".py",
   "mimetype": "text/x-python",
   "name": "python",
   "nbconvert_exporter": "python",
   "pygments_lexer": "ipython3",
   "version": "3.10.6"
  },
  "orig_nbformat": 4,
  "vscode": {
   "interpreter": {
    "hash": "8067871d1d0a2a4071e2339831fc76617fc2c3eeb09b72735f92026d568ae05b"
   }
  }
 },
 "nbformat": 4,
 "nbformat_minor": 2
}
