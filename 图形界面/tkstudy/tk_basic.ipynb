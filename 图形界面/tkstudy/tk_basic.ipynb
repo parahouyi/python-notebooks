{
 "cells": [
  {
   "cell_type": "code",
   "execution_count": 21,
   "metadata": {},
   "outputs": [],
   "source": [
    "import tkinter as tk\n",
    "from tkinter import colorchooser\n",
    "\n"
   ]
  },
  {
   "cell_type": "markdown",
   "metadata": {},
   "source": [
    "一、创造主窗口，进入消息循环"
   ]
  },
  {
   "cell_type": "code",
   "execution_count": 23,
   "metadata": {},
   "outputs": [
    {
     "name": "stdout",
     "output_type": "stream",
     "text": [
      "(None, None)\n",
      "((0, 255, 64), '#00ff40')\n"
     ]
    }
   ],
   "source": [
    "'''主窗口的各项属性和方法'''\n",
    "app = tk.Tk(className='simon') # 如果没有设置title，className显示为title\n",
    "app.title('come on')\n",
    "app.geometry('800x600+100+100')\n",
    "app.iconbitmap(bitmap='sakuran.ico')\n",
    "app.tk_setPalette(foreground='blue', background='pink', activeBackground='gold', disabledBackground='green')\n",
    "'''控件'''\n",
    "# 按钮\n",
    "def on_color():\n",
    "    color = colorchooser.askcolor()\n",
    "    print(color)\n",
    "button = tk.Button(app, bg='green', text='button1', foreground='gold',  font=24,  height=5, width=15, command=on_color, name='button1', fg='pink')\n",
    "button.pack()\n",
    "# 标签\n",
    "label = tk.Label(app, text='china wins', width=10, height=4, fg='red', font=38, bg='blue')\n",
    "label.pack()\n",
    "app.mainloop()\n"
   ]
  },
  {
   "cell_type": "markdown",
   "metadata": {},
   "source": [
    "二、设计出界面\n",
    "1、各种控件\n",
    "2、布局管理\n"
   ]
  },
  {
   "cell_type": "markdown",
   "metadata": {},
   "source": [
    "三、消息事件，页面跳转"
   ]
  },
  {
   "cell_type": "code",
   "execution_count": null,
   "metadata": {},
   "outputs": [],
   "source": [
    "三、"
   ]
  }
 ],
 "metadata": {
  "interpreter": {
   "hash": "d7afd40023e77b14df1b40a6fd7acf12700682e2eb932ce13c87d59534286d49"
  },
  "kernelspec": {
   "display_name": "Python 3.9.10 64-bit",
   "language": "python",
   "name": "python3"
  },
  "language_info": {
   "codemirror_mode": {
    "name": "ipython",
    "version": 3
   },
   "file_extension": ".py",
   "mimetype": "text/x-python",
   "name": "python",
   "nbconvert_exporter": "python",
   "pygments_lexer": "ipython3",
   "version": "3.9.10"
  },
  "orig_nbformat": 4
 },
 "nbformat": 4,
 "nbformat_minor": 2
}
