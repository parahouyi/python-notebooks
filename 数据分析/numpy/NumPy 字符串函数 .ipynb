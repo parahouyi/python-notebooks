{
 "cells": [
  {
   "cell_type": "code",
   "execution_count": 2,
   "metadata": {},
   "outputs": [],
   "source": [
    "import numpy as np\n",
    "from IPython.core.interactiveshell import InteractiveShell\n",
    "InteractiveShell.ast_node_interactivity = 'all'"
   ]
  },
  {
   "cell_type": "code",
   "execution_count": 9,
   "metadata": {},
   "outputs": [
    {
     "data": {
      "text/plain": [
       "array([['i', 'l', 'o', 'v'],\n",
       "       ['e', 'y', 'o', 'u'],\n",
       "       ['M', '8', '8', '4']], dtype='<U1')"
      ]
     },
     "execution_count": 9,
     "metadata": {},
     "output_type": "execute_result"
    }
   ],
   "source": [
    "sa = np.asarray(list('iloveyouM884')).reshape(3,4)\n",
    "sa"
   ]
  },
  {
   "cell_type": "code",
   "execution_count": 8,
   "metadata": {},
   "outputs": [
    {
     "data": {
      "text/plain": [
       "12"
      ]
     },
     "execution_count": 8,
     "metadata": {},
     "output_type": "execute_result"
    }
   ],
   "source": [
    "sa.size"
   ]
  },
  {
   "cell_type": "code",
   "execution_count": 13,
   "metadata": {},
   "outputs": [
    {
     "data": {
      "text/plain": [
       "array([['icomeON', 'lcomeON', 'ocomeON', 'vcomeON'],\n",
       "       ['ecomeON', 'ycomeON', 'ocomeON', 'ucomeON'],\n",
       "       ['McomeON', '8comeON', '8comeON', '4comeON']], dtype='<U7')"
      ]
     },
     "execution_count": 13,
     "metadata": {},
     "output_type": "execute_result"
    }
   ],
   "source": [
    "np.char.add(sa,['comeON']) # 广播机制"
   ]
  },
  {
   "cell_type": "code",
   "execution_count": 16,
   "metadata": {},
   "outputs": [
    {
     "data": {
      "text/plain": [
       "array([['ico', 'lme', 'oON', 'vcc'],\n",
       "       ['eco', 'yme', 'oON', 'ucc'],\n",
       "       ['Mco', '8me', '8ON', '4cc']], dtype='<U3')"
      ]
     },
     "execution_count": 16,
     "metadata": {},
     "output_type": "execute_result"
    }
   ],
   "source": [
    "np.char.add(sa,['co','me','ON','cc'])  # 行向量广播成为三行四列"
   ]
  },
  {
   "cell_type": "code",
   "execution_count": 17,
   "metadata": {},
   "outputs": [
    {
     "data": {
      "text/plain": [
       "array([['ico', 'lco', 'oco', 'vco'],\n",
       "       ['eme', 'yme', 'ome', 'ume'],\n",
       "       ['MON', '8ON', '8ON', '4ON']], dtype='<U3')"
      ]
     },
     "execution_count": 17,
     "metadata": {},
     "output_type": "execute_result"
    }
   ],
   "source": [
    "np.char.add(sa,[['co'],['me'],['ON']]) # 列向量广播成为三行四列"
   ]
  },
  {
   "cell_type": "code",
   "execution_count": 19,
   "metadata": {},
   "outputs": [
    {
     "data": {
      "text/plain": [
       "array([['iii', 'lll', 'ooo', 'vvv'],\n",
       "       ['eee', 'yyy', 'ooo', 'uuu'],\n",
       "       ['MMM', '888', '888', '444']], dtype='<U3')"
      ]
     },
     "execution_count": 19,
     "metadata": {},
     "output_type": "execute_result"
    }
   ],
   "source": [
    "np.char.multiply(sa,3) # 第个元素变成n倍"
   ]
  },
  {
   "cell_type": "code",
   "execution_count": 21,
   "metadata": {},
   "outputs": [
    {
     "data": {
      "text/plain": [
       "array([['==i==', '==l==', '==o==', '==v=='],\n",
       "       ['==e==', '==y==', '==o==', '==u=='],\n",
       "       ['==M==', '==8==', '==8==', '==4==']], dtype='<U5')"
      ]
     },
     "execution_count": 21,
     "metadata": {},
     "output_type": "execute_result"
    }
   ],
   "source": [
    "np.char.center(sa,5,'=')"
   ]
  },
  {
   "cell_type": "code",
   "execution_count": 25,
   "metadata": {},
   "outputs": [
    {
     "data": {
      "text/plain": [
       "array([['Iii', 'Lll', 'Ooo', 'Vvv'],\n",
       "       ['Eee', 'Yyy', 'Ooo', 'Uuu'],\n",
       "       ['Mmm', '888', '888', '444']], dtype='<U3')"
      ]
     },
     "execution_count": 25,
     "metadata": {},
     "output_type": "execute_result"
    }
   ],
   "source": [
    "np.char.capitalize(np.char.multiply(sa,3))"
   ]
  },
  {
   "cell_type": "code",
   "execution_count": 26,
   "metadata": {},
   "outputs": [
    {
     "data": {
      "text/plain": [
       "array([['Iii', 'Lll', 'Ooo', 'Vvv'],\n",
       "       ['Eee', 'Yyy', 'Ooo', 'Uuu'],\n",
       "       ['Mmm', '888', '888', '444']], dtype='<U3')"
      ]
     },
     "execution_count": 26,
     "metadata": {},
     "output_type": "execute_result"
    }
   ],
   "source": [
    "np.char.title(np.char.multiply(sa,3))"
   ]
  },
  {
   "cell_type": "code",
   "execution_count": 27,
   "metadata": {},
   "outputs": [
    {
     "data": {
      "text/plain": [
       "array([['iii', 'lll', 'ooo', 'vvv'],\n",
       "       ['eee', 'yyy', 'ooo', 'uuu'],\n",
       "       ['mmm', '888', '888', '444']], dtype='<U3')"
      ]
     },
     "execution_count": 27,
     "metadata": {},
     "output_type": "execute_result"
    }
   ],
   "source": [
    "np.char.lower(_)"
   ]
  },
  {
   "cell_type": "code",
   "execution_count": 28,
   "metadata": {},
   "outputs": [
    {
     "data": {
      "text/plain": [
       "array([['III', 'LLL', 'OOO', 'VVV'],\n",
       "       ['EEE', 'YYY', 'OOO', 'UUU'],\n",
       "       ['MMM', '888', '888', '444']], dtype='<U3')"
      ]
     },
     "execution_count": 28,
     "metadata": {},
     "output_type": "execute_result"
    }
   ],
   "source": [
    "np.char.upper(_)"
   ]
  },
  {
   "cell_type": "code",
   "execution_count": 29,
   "metadata": {},
   "outputs": [
    {
     "data": {
      "text/plain": [
       "array([[list(['III']), list(['LLL']), list(['OOO']), list(['VVV'])],\n",
       "       [list(['', '', '', '']), list(['YYY']), list(['OOO']),\n",
       "        list(['UUU'])],\n",
       "       [list(['MMM']), list(['888']), list(['888']), list(['444'])]],\n",
       "      dtype=object)"
      ]
     },
     "execution_count": 29,
     "metadata": {},
     "output_type": "execute_result"
    }
   ],
   "source": [
    "np.char.split(_,'E')"
   ]
  },
  {
   "cell_type": "code",
   "execution_count": 30,
   "metadata": {},
   "outputs": [
    {
     "data": {
      "text/plain": [
       "(3, 4)"
      ]
     },
     "execution_count": 30,
     "metadata": {},
     "output_type": "execute_result"
    }
   ],
   "source": [
    "_.shape  # 元素成为列表，原数组形状不变"
   ]
  },
  {
   "cell_type": "code",
   "execution_count": 32,
   "metadata": {},
   "outputs": [
    {
     "data": {
      "text/plain": [
       "array([[list(['i']), list(['l']), list(['o']), list(['v'])],\n",
       "       [list(['e']), list(['y']), list(['o']), list(['u'])],\n",
       "       [list(['M']), list(['8']), list(['8']), list(['4'])]], dtype=object)"
      ]
     },
     "execution_count": 32,
     "metadata": {},
     "output_type": "execute_result"
    }
   ],
   "source": [
    "np.char.splitlines(sa)"
   ]
  },
  {
   "cell_type": "code",
   "execution_count": 33,
   "metadata": {},
   "outputs": [
    {
     "data": {
      "text/plain": [
       "array([['i', 'l', 'o', 'v'],\n",
       "       ['e', 'y', 'o', 'u'],\n",
       "       ['M', '8', '8', '4']], dtype='<U1')"
      ]
     },
     "execution_count": 33,
     "metadata": {},
     "output_type": "execute_result"
    }
   ],
   "source": [
    "np.char.strip(sa)"
   ]
  },
  {
   "cell_type": "code",
   "execution_count": 34,
   "metadata": {},
   "outputs": [
    {
     "data": {
      "text/plain": [
       "array([['i', 'l', 'o', 'v'],\n",
       "       ['e', 'y', 'o', 'u'],\n",
       "       ['M', '8', '8', '4']], dtype='<U1')"
      ]
     },
     "execution_count": 34,
     "metadata": {},
     "output_type": "execute_result"
    }
   ],
   "source": [
    "np.char.join(':',sa)"
   ]
  },
  {
   "cell_type": "code",
   "execution_count": 36,
   "metadata": {},
   "outputs": [
    {
     "data": {
      "text/plain": [
       "array([['i', 'l', 'o', 'v'],\n",
       "       ['e', 'y', 'o', 'u'],\n",
       "       ['M', '8', '8', '4']], dtype='<U1')"
      ]
     },
     "execution_count": 36,
     "metadata": {},
     "output_type": "execute_result"
    }
   ],
   "source": [
    "from matplotlib.pyplot import axis\n",
    "\n",
    "\n",
    "np.char.join(':',sa)"
   ]
  },
  {
   "cell_type": "code",
   "execution_count": 37,
   "metadata": {},
   "outputs": [
    {
     "name": "stdout",
     "output_type": "stream",
     "text": [
      "r:u:n:o:o:b\n",
      "['r:u:n:o:o:b' 'g-o-o-g-l-e']\n"
     ]
    }
   ],
   "source": [
    "# 操作字符串\n",
    "print (np.char.join(':','runoob'))\n",
    " \n",
    "# 指定多个分隔符操作数组元素\n",
    "print (np.char.join([':','-'],['runoob','google']))"
   ]
  },
  {
   "cell_type": "code",
   "execution_count": 45,
   "metadata": {},
   "outputs": [
    {
     "data": {
      "text/plain": [
       "array([['i:i:i:i:i', 'l.l.l.l.l', 'o+o+o+o+o', 'v-v-v-v-v'],\n",
       "       ['e:e:e:e:e', 'y.y.y.y.y', 'o+o+o+o+o', 'u-u-u-u-u'],\n",
       "       ['M:M:M:M:M', '8.8.8.8.8', '8+8+8+8+8', '4-4-4-4-4']], dtype='<U9')"
      ]
     },
     "execution_count": 45,
     "metadata": {},
     "output_type": "execute_result"
    }
   ],
   "source": [
    "np.char.join([':','.','+','-'],np.char.multiply(sa,5))"
   ]
  },
  {
   "cell_type": "code",
   "execution_count": 47,
   "metadata": {},
   "outputs": [
    {
     "data": {
      "text/plain": [
       "array([['i:i:i:i', 'l:l:l:l', 'o:o:o:o', 'v:v:v:v'],\n",
       "       ['e:e:e:e', 'y:y:y:y', 'o:o:o:o', 'u:u:u:u'],\n",
       "       ['M:M:M:M', '8:8:8:8', '8:8:8:8', '4:4:4:4']], dtype='<U7')"
      ]
     },
     "execution_count": 47,
     "metadata": {},
     "output_type": "execute_result"
    }
   ],
   "source": [
    "np.char.join([':'],np.char.multiply(sa,4)) # 是元素自身的拼接，而不是多个元素拼接"
   ]
  },
  {
   "cell_type": "code",
   "execution_count": 48,
   "metadata": {},
   "outputs": [
    {
     "data": {
      "text/plain": [
       "array([['iGODiGODiGODi', 'lGODlGODlGODl', 'oGODoGODoGODo',\n",
       "        'vGODvGODvGODv'],\n",
       "       ['eGODeGODeGODe', 'yGODyGODyGODy', 'oGODoGODoGODo',\n",
       "        'uGODuGODuGODu'],\n",
       "       ['MGODMGODMGODM', '8GOD8GOD8GOD8', '8GOD8GOD8GOD8',\n",
       "        '4GOD4GOD4GOD4']], dtype='<U13')"
      ]
     },
     "execution_count": 48,
     "metadata": {},
     "output_type": "execute_result"
    }
   ],
   "source": [
    "np.char.replace(_, ':','GOD')"
   ]
  },
  {
   "cell_type": "code",
   "execution_count": 49,
   "metadata": {},
   "outputs": [
    {
     "data": {
      "text/plain": [
       "array([[b'i', b'l', b'o', b'v'],\n",
       "       [b'e', b'y', b'o', b'u'],\n",
       "       [b'M', b'8', b'8', b'4']], dtype='|S1')"
      ]
     },
     "execution_count": 49,
     "metadata": {},
     "output_type": "execute_result"
    }
   ],
   "source": [
    "np.char.encode(sa)"
   ]
  },
  {
   "cell_type": "code",
   "execution_count": 50,
   "metadata": {},
   "outputs": [
    {
     "data": {
      "text/plain": [
       "array([['i', 'l', 'o', 'v'],\n",
       "       ['e', 'y', 'o', 'u'],\n",
       "       ['M', '8', '8', '4']], dtype='<U1')"
      ]
     },
     "execution_count": 50,
     "metadata": {},
     "output_type": "execute_result"
    }
   ],
   "source": [
    "np.char.decode(_)"
   ]
  },
  {
   "cell_type": "code",
   "execution_count": null,
   "metadata": {},
   "outputs": [],
   "source": []
  }
 ],
 "metadata": {
  "kernelspec": {
   "display_name": "Python 3.10.5 64-bit",
   "language": "python",
   "name": "python3"
  },
  "language_info": {
   "codemirror_mode": {
    "name": "ipython",
    "version": 3
   },
   "file_extension": ".py",
   "mimetype": "text/x-python",
   "name": "python",
   "nbconvert_exporter": "python",
   "pygments_lexer": "ipython3",
   "version": "3.10.5"
  },
  "orig_nbformat": 4,
  "vscode": {
   "interpreter": {
    "hash": "aee8b7b246df8f9039afb4144a1f6fd8d2ca17a180786b69acc140d282b71a49"
   }
  }
 },
 "nbformat": 4,
 "nbformat_minor": 2
}
