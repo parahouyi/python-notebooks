{
 "cells": [
  {
   "cell_type": "code",
   "execution_count": 3,
   "metadata": {},
   "outputs": [],
   "source": [
    "from IPython.core.interactiveshell import InteractiveShell\n",
    "InteractiveShell.ast_node_interactivity = 'all'"
   ]
  },
  {
   "cell_type": "code",
   "execution_count": 4,
   "metadata": {},
   "outputs": [],
   "source": [
    "from itertools import product, permutations, combinations, combinations_with_replacement"
   ]
  },
  {
   "cell_type": "code",
   "execution_count": 5,
   "metadata": {},
   "outputs": [
    {
     "data": {
      "text/plain": [
       "<itertools.product at 0x1fd3fa14b00>"
      ]
     },
     "execution_count": 5,
     "metadata": {},
     "output_type": "execute_result"
    }
   ],
   "source": [
    "product('abcd')  # default 'repeat=1'   return Iterator"
   ]
  },
  {
   "cell_type": "code",
   "execution_count": 6,
   "metadata": {},
   "outputs": [],
   "source": [
    "from collections.abc import Generator, Iterable, Iterator"
   ]
  },
  {
   "cell_type": "code",
   "execution_count": 7,
   "metadata": {},
   "outputs": [
    {
     "data": {
      "text/plain": [
       "False"
      ]
     },
     "execution_count": 7,
     "metadata": {},
     "output_type": "execute_result"
    },
    {
     "data": {
      "text/plain": [
       "True"
      ]
     },
     "execution_count": 7,
     "metadata": {},
     "output_type": "execute_result"
    },
    {
     "data": {
      "text/plain": [
       "True"
      ]
     },
     "execution_count": 7,
     "metadata": {},
     "output_type": "execute_result"
    },
    {
     "data": {
      "text/plain": [
       "[('a',), ('b',), ('c',), ('d',)]"
      ]
     },
     "execution_count": 7,
     "metadata": {},
     "output_type": "execute_result"
    }
   ],
   "source": [
    "isinstance(product('abcd'), Generator)\n",
    "isinstance(product('abcd'), Iterator)\n",
    "isinstance(product('abcd'), Iterable)\n",
    "list(product('abcd'))"
   ]
  },
  {
   "cell_type": "markdown",
   "metadata": {},
   "source": [
    "#### 可重复取样的排列，$m^{n}$"
   ]
  },
  {
   "cell_type": "code",
   "execution_count": 8,
   "metadata": {},
   "outputs": [
    {
     "data": {
      "text/plain": [
       "[('a', 'a', 'a', 'a'),\n",
       " ('a', 'a', 'a', 'b'),\n",
       " ('a', 'a', 'a', 'c'),\n",
       " ('a', 'a', 'b', 'a'),\n",
       " ('a', 'a', 'b', 'b'),\n",
       " ('a', 'a', 'b', 'c'),\n",
       " ('a', 'a', 'c', 'a'),\n",
       " ('a', 'a', 'c', 'b'),\n",
       " ('a', 'a', 'c', 'c'),\n",
       " ('a', 'b', 'a', 'a'),\n",
       " ('a', 'b', 'a', 'b'),\n",
       " ('a', 'b', 'a', 'c'),\n",
       " ('a', 'b', 'b', 'a'),\n",
       " ('a', 'b', 'b', 'b'),\n",
       " ('a', 'b', 'b', 'c'),\n",
       " ('a', 'b', 'c', 'a'),\n",
       " ('a', 'b', 'c', 'b'),\n",
       " ('a', 'b', 'c', 'c'),\n",
       " ('a', 'c', 'a', 'a'),\n",
       " ('a', 'c', 'a', 'b'),\n",
       " ('a', 'c', 'a', 'c'),\n",
       " ('a', 'c', 'b', 'a'),\n",
       " ('a', 'c', 'b', 'b'),\n",
       " ('a', 'c', 'b', 'c'),\n",
       " ('a', 'c', 'c', 'a'),\n",
       " ('a', 'c', 'c', 'b'),\n",
       " ('a', 'c', 'c', 'c'),\n",
       " ('b', 'a', 'a', 'a'),\n",
       " ('b', 'a', 'a', 'b'),\n",
       " ('b', 'a', 'a', 'c'),\n",
       " ('b', 'a', 'b', 'a'),\n",
       " ('b', 'a', 'b', 'b'),\n",
       " ('b', 'a', 'b', 'c'),\n",
       " ('b', 'a', 'c', 'a'),\n",
       " ('b', 'a', 'c', 'b'),\n",
       " ('b', 'a', 'c', 'c'),\n",
       " ('b', 'b', 'a', 'a'),\n",
       " ('b', 'b', 'a', 'b'),\n",
       " ('b', 'b', 'a', 'c'),\n",
       " ('b', 'b', 'b', 'a'),\n",
       " ('b', 'b', 'b', 'b'),\n",
       " ('b', 'b', 'b', 'c'),\n",
       " ('b', 'b', 'c', 'a'),\n",
       " ('b', 'b', 'c', 'b'),\n",
       " ('b', 'b', 'c', 'c'),\n",
       " ('b', 'c', 'a', 'a'),\n",
       " ('b', 'c', 'a', 'b'),\n",
       " ('b', 'c', 'a', 'c'),\n",
       " ('b', 'c', 'b', 'a'),\n",
       " ('b', 'c', 'b', 'b'),\n",
       " ('b', 'c', 'b', 'c'),\n",
       " ('b', 'c', 'c', 'a'),\n",
       " ('b', 'c', 'c', 'b'),\n",
       " ('b', 'c', 'c', 'c'),\n",
       " ('c', 'a', 'a', 'a'),\n",
       " ('c', 'a', 'a', 'b'),\n",
       " ('c', 'a', 'a', 'c'),\n",
       " ('c', 'a', 'b', 'a'),\n",
       " ('c', 'a', 'b', 'b'),\n",
       " ('c', 'a', 'b', 'c'),\n",
       " ('c', 'a', 'c', 'a'),\n",
       " ('c', 'a', 'c', 'b'),\n",
       " ('c', 'a', 'c', 'c'),\n",
       " ('c', 'b', 'a', 'a'),\n",
       " ('c', 'b', 'a', 'b'),\n",
       " ('c', 'b', 'a', 'c'),\n",
       " ('c', 'b', 'b', 'a'),\n",
       " ('c', 'b', 'b', 'b'),\n",
       " ('c', 'b', 'b', 'c'),\n",
       " ('c', 'b', 'c', 'a'),\n",
       " ('c', 'b', 'c', 'b'),\n",
       " ('c', 'b', 'c', 'c'),\n",
       " ('c', 'c', 'a', 'a'),\n",
       " ('c', 'c', 'a', 'b'),\n",
       " ('c', 'c', 'a', 'c'),\n",
       " ('c', 'c', 'b', 'a'),\n",
       " ('c', 'c', 'b', 'b'),\n",
       " ('c', 'c', 'b', 'c'),\n",
       " ('c', 'c', 'c', 'a'),\n",
       " ('c', 'c', 'c', 'b'),\n",
       " ('c', 'c', 'c', 'c')]"
      ]
     },
     "execution_count": 8,
     "metadata": {},
     "output_type": "execute_result"
    }
   ],
   "source": [
    "list(product('abc', repeat=4))  # pow(3, 4) = 81"
   ]
  },
  {
   "cell_type": "markdown",
   "metadata": {},
   "source": [
    "#### 不可重复取样的排列，$P^{n}_{m}$"
   ]
  },
  {
   "cell_type": "code",
   "execution_count": 9,
   "metadata": {},
   "outputs": [
    {
     "data": {
      "text/plain": [
       "<itertools.permutations at 0x1fd415237e0>"
      ]
     },
     "execution_count": 9,
     "metadata": {},
     "output_type": "execute_result"
    },
    {
     "data": {
      "text/plain": [
       "24"
      ]
     },
     "execution_count": 9,
     "metadata": {},
     "output_type": "execute_result"
    }
   ],
   "source": [
    "permutations('abcd',3)\n",
    "len(list(permutations('abcd',3))) # 4 * 3 * 2 = 24"
   ]
  },
  {
   "cell_type": "markdown",
   "metadata": {},
   "source": [
    "#### 可重复取样的组合， "
   ]
  },
  {
   "cell_type": "code",
   "execution_count": 14,
   "metadata": {},
   "outputs": [
    {
     "data": {
      "text/plain": [
       "<itertools.combinations_with_replacement at 0x1fd3fe00f40>"
      ]
     },
     "execution_count": 14,
     "metadata": {},
     "output_type": "execute_result"
    },
    {
     "data": {
      "text/plain": [
       "[('a', 'a', 'a'),\n",
       " ('a', 'a', 'b'),\n",
       " ('a', 'a', 'c'),\n",
       " ('a', 'a', 'd'),\n",
       " ('a', 'b', 'b'),\n",
       " ('a', 'b', 'c'),\n",
       " ('a', 'b', 'd'),\n",
       " ('a', 'c', 'c'),\n",
       " ('a', 'c', 'd'),\n",
       " ('a', 'd', 'd'),\n",
       " ('b', 'b', 'b'),\n",
       " ('b', 'b', 'c'),\n",
       " ('b', 'b', 'd'),\n",
       " ('b', 'c', 'c'),\n",
       " ('b', 'c', 'd'),\n",
       " ('b', 'd', 'd'),\n",
       " ('c', 'c', 'c'),\n",
       " ('c', 'c', 'd'),\n",
       " ('c', 'd', 'd'),\n",
       " ('d', 'd', 'd')]"
      ]
     },
     "execution_count": 14,
     "metadata": {},
     "output_type": "execute_result"
    },
    {
     "data": {
      "text/plain": [
       "20"
      ]
     },
     "execution_count": 14,
     "metadata": {},
     "output_type": "execute_result"
    }
   ],
   "source": [
    "combinations_with_replacement('abcd', 3)\n",
    "list(combinations_with_replacement('abcd', 3))\n",
    "len(list(combinations_with_replacement('abcd', 3)))"
   ]
  },
  {
   "cell_type": "markdown",
   "metadata": {},
   "source": [
    "#### 不可重复取样的组合， $C^{n}_{m}$"
   ]
  },
  {
   "cell_type": "code",
   "execution_count": 10,
   "metadata": {},
   "outputs": [
    {
     "data": {
      "text/plain": [
       "<itertools.combinations at 0x1fd41530400>"
      ]
     },
     "execution_count": 10,
     "metadata": {},
     "output_type": "execute_result"
    },
    {
     "data": {
      "text/plain": [
       "[('a', 'b', 'c'), ('a', 'b', 'd'), ('a', 'c', 'd'), ('b', 'c', 'd')]"
      ]
     },
     "execution_count": 10,
     "metadata": {},
     "output_type": "execute_result"
    },
    {
     "data": {
      "text/plain": [
       "4"
      ]
     },
     "execution_count": 10,
     "metadata": {},
     "output_type": "execute_result"
    }
   ],
   "source": [
    "combinations('abcd', 3)\n",
    "list(combinations('abcd', 3))\n",
    "len(list(combinations('abcd', 3)))  # C(4, 3) = (4 * 3 * 2) / (3 * 2 * 1)"
   ]
  }
 ],
 "metadata": {
  "kernelspec": {
   "display_name": "Python 3.10.6 64-bit",
   "language": "python",
   "name": "python3"
  },
  "language_info": {
   "codemirror_mode": {
    "name": "ipython",
    "version": 3
   },
   "file_extension": ".py",
   "mimetype": "text/x-python",
   "name": "python",
   "nbconvert_exporter": "python",
   "pygments_lexer": "ipython3",
   "version": "3.10.6"
  },
  "orig_nbformat": 4,
  "vscode": {
   "interpreter": {
    "hash": "8067871d1d0a2a4071e2339831fc76617fc2c3eeb09b72735f92026d568ae05b"
   }
  }
 },
 "nbformat": 4,
 "nbformat_minor": 2
}
