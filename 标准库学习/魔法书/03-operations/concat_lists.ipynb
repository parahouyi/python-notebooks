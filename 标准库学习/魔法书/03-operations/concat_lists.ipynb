{
 "cells": [
  {
   "cell_type": "markdown",
   "metadata": {},
   "source": [
    "## 连接列表的九种方法"
   ]
  },
  {
   "cell_type": "markdown",
   "metadata": {},
   "source": [
    "\n",
    "1、最直观的相加\n"
   ]
  },
  {
   "cell_type": "code",
   "execution_count": 1,
   "metadata": {},
   "outputs": [
    {
     "data": {
      "text/plain": [
       "[1, 2, 3, 4, 5, 6, 7, 8, 9]"
      ]
     },
     "execution_count": 1,
     "metadata": {},
     "output_type": "execute_result"
    }
   ],
   "source": [
    "\n",
    "list01 = [1,2,3]\n",
    "list02 = [4,5,6]\n",
    "list03 = [7,8,9]\n",
    "\n",
    "list01 + list02 + list03"
   ]
  },
  {
   "cell_type": "markdown",
   "metadata": {},
   "source": [
    "2、借助 itertools\n",
    "\n",
    "在前面的文章中也介绍过，使用 itertools.chain() 函数先将可迭代对象（在这里指的是列表）串联起来，组成一个更大的可迭代对象。\n",
    "\n",
    "最后你再利用 list 将其转化为 列表。\n"
   ]
  },
  {
   "cell_type": "code",
   "execution_count": 2,
   "metadata": {},
   "outputs": [
    {
     "data": {
      "text/plain": [
       "[1, 2, 3, 4, 5, 6, 7, 8, 9]"
      ]
     },
     "execution_count": 2,
     "metadata": {},
     "output_type": "execute_result"
    }
   ],
   "source": [
    "\n",
    "from itertools import chain\n",
    "list01 = [1,2,3]\n",
    "list02 = [4,5,6]\n",
    "list03 = [7,8,9]\n",
    "\n",
    "list(chain(list01, list02, list03))\n"
   ]
  },
  {
   "cell_type": "markdown",
   "metadata": {},
   "source": [
    "3、使用 * 解包\n",
    "\n",
    "使用 * 可以解包列表，解包后再合并。\n"
   ]
  },
  {
   "cell_type": "code",
   "execution_count": 3,
   "metadata": {},
   "outputs": [
    {
     "data": {
      "text/plain": [
       "[1, 2, 3, 4, 5, 6]"
      ]
     },
     "execution_count": 3,
     "metadata": {},
     "output_type": "execute_result"
    }
   ],
   "source": [
    "list01 = [1,2,3]\n",
    "list02 = [4,5,6]\n",
    "\n",
    "[*list01, *list02]\n",
    "[1, 2, 3, 4, 5, 6]"
   ]
  },
  {
   "cell_type": "markdown",
   "metadata": {},
   "source": [
    "4、使用 extend\n",
    "\n",
    "在字典中，使用 update 可实现原地更新，而在列表中，使用 extend 可实现列表的自我扩展。\n"
   ]
  },
  {
   "cell_type": "code",
   "execution_count": 5,
   "metadata": {},
   "outputs": [
    {
     "data": {
      "text/plain": [
       "[1, 2, 3, 4, 5, 6]"
      ]
     },
     "execution_count": 5,
     "metadata": {},
     "output_type": "execute_result"
    }
   ],
   "source": [
    "list01 = [1,2,3]\n",
    "list02 = [4,5,6]\n",
    "\n",
    "list01.extend(list02)\n",
    "list01"
   ]
  },
  {
   "cell_type": "markdown",
   "metadata": {
    "tags": []
   },
   "source": [
    "5、使用列表推导式\n"
   ]
  },
  {
   "cell_type": "code",
   "execution_count": 6,
   "metadata": {},
   "outputs": [
    {
     "data": {
      "text/plain": [
       "[1, 2, 3, 4, 5, 6, 7, 8, 9]"
      ]
     },
     "execution_count": 6,
     "metadata": {},
     "output_type": "execute_result"
    }
   ],
   "source": [
    "\n",
    "list01 = [1,2,3]\n",
    "list02 = [4,5,6]\n",
    "list03 = [7,8,9]\n",
    "\n",
    "[x for l in (list01, list02, list03) for x in l]\n",
    "\n"
   ]
  },
  {
   "cell_type": "markdown",
   "metadata": {},
   "source": [
    "6、使用 heapq\n",
    "heapq 是 Python 的一个标准模块，它提供了堆排序算法的实现。\n",
    "该模块里有一个 merge 方法，可以用于合并多个列表，如下所示\n",
    "要注意的是，heapq.merge 除了合并多个列表外，它还会将合并后的最终的列表进行排序。\n"
   ]
  },
  {
   "cell_type": "code",
   "execution_count": 7,
   "metadata": {},
   "outputs": [
    {
     "data": {
      "text/plain": [
       "[1, 2, 4, 5, 3, 6, 7, 9, 8]"
      ]
     },
     "execution_count": 7,
     "metadata": {},
     "output_type": "execute_result"
    }
   ],
   "source": [
    "\n",
    "list01 = [2,5,3]\n",
    "list02 = [1,4,6]\n",
    "list03 = [7,9,8]\n",
    "\n",
    "from heapq import merge\n",
    "\n",
    "list(merge(list01, list02, list03))\n",
    " "
   ]
  },
  {
   "cell_type": "markdown",
   "metadata": {},
   "source": [
    "7、借助魔法方法\n",
    "\n",
    "有一个魔法方法叫 __add__，当我们使用第一种方法 list01 + list02 的时候，内部实际上是作用在 __add__ 这个魔法方法上的。我们可以配合 reduce 这个方法来对多个列表进行合并\n"
   ]
  },
  {
   "cell_type": "code",
   "execution_count": null,
   "metadata": {},
   "outputs": [],
   "source": [
    "\n",
    "list01 = [1,2,3]\n",
    "list02 = [4,5,6]\n",
    "list03 = [7,8,9]\n",
    "\n",
    "from functools import reduce\n",
    "reduce(list.__add__, (list01, list02, list03))\n"
   ]
  },
  {
   "cell_type": "markdown",
   "metadata": {},
   "source": [
    "\n",
    "8. 使用 yield from\n",
    "\n",
    "在 yield from 后可接一个可迭代对象，用于迭代并返回其中的每一个元素。\n",
    "\n",
    "因此，我们可以像下面这样自定义一个合并列表的工具函数。\n"
   ]
  },
  {
   "cell_type": "code",
   "execution_count": 8,
   "metadata": {},
   "outputs": [
    {
     "data": {
      "text/plain": [
       "[1, 2, 3, 4, 5, 6, 7, 8, 9]"
      ]
     },
     "execution_count": 8,
     "metadata": {},
     "output_type": "execute_result"
    }
   ],
   "source": [
    "\n",
    "list01 = [1,2,3]\n",
    "list02 = [4,5,6]\n",
    "list03 = [7,8,9]\n",
    "\n",
    "def merge(*lists):\n",
    "    for l in lists:\n",
    "        yield from l\n",
    "\n",
    "list(merge(list01, list02, list03))"
   ]
  },
  {
   "cell_type": "markdown",
   "metadata": {},
   "source": [
    "9. sum函数"
   ]
  },
  {
   "cell_type": "code",
   "execution_count": 9,
   "metadata": {},
   "outputs": [
    {
     "data": {
      "text/plain": [
       "[1, 2, 3, 4, 5, 6, 7, 8, 9]"
      ]
     },
     "execution_count": 9,
     "metadata": {},
     "output_type": "execute_result"
    }
   ],
   "source": [
    "sum((list01, list02, list03), [])"
   ]
  }
 ],
 "metadata": {
  "kernelspec": {
   "display_name": "Python 3.10.6 64-bit",
   "language": "python",
   "name": "python3"
  },
  "language_info": {
   "codemirror_mode": {
    "name": "ipython",
    "version": 3
   },
   "file_extension": ".py",
   "mimetype": "text/x-python",
   "name": "python",
   "nbconvert_exporter": "python",
   "pygments_lexer": "ipython3",
   "version": "3.10.6"
  },
  "orig_nbformat": 4,
  "vscode": {
   "interpreter": {
    "hash": "8067871d1d0a2a4071e2339831fc76617fc2c3eeb09b72735f92026d568ae05b"
   }
  }
 },
 "nbformat": 4,
 "nbformat_minor": 2
}
