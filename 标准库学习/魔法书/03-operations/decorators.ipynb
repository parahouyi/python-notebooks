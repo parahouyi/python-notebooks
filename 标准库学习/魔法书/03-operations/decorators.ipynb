{
 "cells": [
  {
   "cell_type": "markdown",
   "metadata": {},
   "source": [
    "### 标准装饰器"
   ]
  },
  {
   "cell_type": "code",
   "execution_count": 2,
   "metadata": {},
   "outputs": [],
   "source": [
    "def decorator(func_decorated):\n",
    "    def outter(*args, **kwargs):\n",
    "        # before codes\n",
    "        print('before1')\n",
    "        func_decorated(*args, **kwargs)\n",
    "        \n",
    "        # after codes:\n",
    "        print('after1')\n",
    "    return outter\n"
   ]
  },
  {
   "cell_type": "code",
   "execution_count": 3,
   "metadata": {},
   "outputs": [],
   "source": [
    "def decorated(a):\n",
    "    print('decorated  ', a)"
   ]
  },
  {
   "cell_type": "code",
   "execution_count": 8,
   "metadata": {},
   "outputs": [
    {
     "data": {
      "text/plain": [
       "<function __main__.decorator.<locals>.outter(*args, **kwargs)>"
      ]
     },
     "execution_count": 8,
     "metadata": {},
     "output_type": "execute_result"
    }
   ],
   "source": [
    "decorated = decorator(decorated)\n",
    "decorated"
   ]
  },
  {
   "cell_type": "code",
   "execution_count": 5,
   "metadata": {},
   "outputs": [
    {
     "name": "stdout",
     "output_type": "stream",
     "text": [
      "before1\n",
      "decorated   hello\n",
      "after1\n"
     ]
    }
   ],
   "source": [
    "decorated('hello')"
   ]
  },
  {
   "cell_type": "code",
   "execution_count": 7,
   "metadata": {},
   "outputs": [
    {
     "name": "stdout",
     "output_type": "stream",
     "text": [
      "before1\n",
      "decorated2 5\n",
      "after1\n"
     ]
    }
   ],
   "source": [
    "@decorator\n",
    "def decorated2(a):\n",
    "    print('decorated2', a)\n",
    "\n",
    "\n",
    "decorated2(5)"
   ]
  },
  {
   "cell_type": "markdown",
   "metadata": {},
   "source": [
    "### 带参数的装饰器\n",
    "#### 外加一层而已"
   ]
  },
  {
   "cell_type": "code",
   "execution_count": 11,
   "metadata": {},
   "outputs": [],
   "source": [
    "def decorator_with_args(a):\n",
    "    def wrapper(func_decorated):\n",
    "        def outter(*args, **kwargs):\n",
    "            # before codes\n",
    "            print(a)\n",
    "            print('before1')\n",
    "            func_decorated(*args, **kwargs)\n",
    "            \n",
    "            # after codes:\n",
    "            print('after1')\n",
    "        return outter\n",
    "    return wrapper"
   ]
  },
  {
   "cell_type": "code",
   "execution_count": 12,
   "metadata": {},
   "outputs": [],
   "source": [
    "@decorator_with_args(888)\n",
    "def decorated3(a):\n",
    "    print('decorated3', a)"
   ]
  },
  {
   "cell_type": "code",
   "execution_count": 13,
   "metadata": {},
   "outputs": [
    {
     "name": "stdout",
     "output_type": "stream",
     "text": [
      "888\n",
      "before1\n",
      "decorated3 3434\n",
      "after1\n"
     ]
    }
   ],
   "source": [
    "decorated3(3434)"
   ]
  },
  {
   "cell_type": "code",
   "execution_count": 14,
   "metadata": {},
   "outputs": [
    {
     "name": "stdout",
     "output_type": "stream",
     "text": [
      "9999\n",
      "before1\n",
      "decorated3 3434\n",
      "after1\n"
     ]
    }
   ],
   "source": [
    "@decorator_with_args(9999)\n",
    "def decorated3(a):\n",
    "    print('decorated3', a)\n",
    "decorated3(3434)"
   ]
  },
  {
   "cell_type": "markdown",
   "metadata": {},
   "source": [
    "### 不带参数的类装饰器\n",
    "    初始化时传输被装饰函数名，在__call__方法中调用"
   ]
  },
  {
   "cell_type": "code",
   "execution_count": 33,
   "metadata": {},
   "outputs": [],
   "source": [
    "class Deco:\n",
    "    def __init__(self, decorated_func) -> None:\n",
    "        self.decorated_func = decorated_func\n",
    "       \n",
    "\n",
    "    def __call__(self, *args, **kwds):\n",
    "        print('before')\n",
    "        \n",
    "        self.decorated_func(*args, **kwds)\n",
    "        print('after')\n",
    "   \n",
    "\n"
   ]
  },
  {
   "cell_type": "code",
   "execution_count": 34,
   "metadata": {},
   "outputs": [],
   "source": [
    "@Deco\n",
    "def decorated4(a):\n",
    "    print('decorated4', a)"
   ]
  },
  {
   "cell_type": "code",
   "execution_count": 35,
   "metadata": {},
   "outputs": [
    {
     "name": "stdout",
     "output_type": "stream",
     "text": [
      "before\n",
      "decorated4 8888\n",
      "after\n"
     ]
    }
   ],
   "source": [
    "decorated4(8888)"
   ]
  },
  {
   "cell_type": "markdown",
   "metadata": {},
   "source": [
    "### 带参数的类装饰器\n",
    "    __init__ ：不再接收被装饰函数，而是接收传入参数。 __call__ ：接收被装饰函数，实现装饰逻辑。"
   ]
  },
  {
   "cell_type": "code",
   "execution_count": 42,
   "metadata": {},
   "outputs": [],
   "source": [
    "class DecoWithArgs:\n",
    "    def __init__(self, arg) -> None:\n",
    "        self.arg = arg\n",
    "       \n",
    "\n",
    "    def __call__(self, decorated_func):\n",
    "        def wrapper(*args, **kwds):\n",
    "            print('before')\n",
    "            print('class args', self.arg)\n",
    "            decorated_func(*args, **kwds)\n",
    "            print('after')\n",
    "        return wrapper"
   ]
  },
  {
   "cell_type": "code",
   "execution_count": 43,
   "metadata": {},
   "outputs": [],
   "source": [
    "@DecoWithArgs(9999999)\n",
    "def decorated5(a):\n",
    "    print('decorated5', a)"
   ]
  },
  {
   "cell_type": "code",
   "execution_count": 44,
   "metadata": {},
   "outputs": [
    {
     "name": "stdout",
     "output_type": "stream",
     "text": [
      "before\n",
      "class args 9999999\n",
      "decorated5 823\n",
      "after\n"
     ]
    }
   ],
   "source": [
    "decorated5(823)"
   ]
  },
  {
   "cell_type": "markdown",
   "metadata": {},
   "source": [
    "### 通过偏函数和类实现装饰器"
   ]
  },
  {
   "cell_type": "code",
   "execution_count": 45,
   "metadata": {},
   "outputs": [],
   "source": [
    "import time\n",
    "import functools\n",
    "\n",
    "class DelayFunc:\n",
    "    def __init__(self,  duration, func):\n",
    "        self.duration = duration\n",
    "        self.func = func\n",
    "\n",
    "    def __call__(self, *args, **kwargs):\n",
    "        print(f'Wait for {self.duration} seconds...')\n",
    "        time.sleep(self.duration)\n",
    "        return self.func(*args, **kwargs)\n",
    "\n",
    "    def eager_call(self, *args, **kwargs):\n",
    "        print('Call without delay')\n",
    "        return self.func(*args, **kwargs)"
   ]
  },
  {
   "cell_type": "code",
   "execution_count": 46,
   "metadata": {},
   "outputs": [],
   "source": [
    "def delay(duration):\n",
    "    \"\"\"\n",
    "    装饰器：推迟某个函数的执行。\n",
    "    同时提供 .eager_call 方法立即执行\n",
    "    \"\"\"\n",
    "    # 此处为了避免定义额外函数，\n",
    "    # 直接使用 functools.partial 帮助构造 DelayFunc 实例\n",
    "    return functools.partial(DelayFunc, duration)"
   ]
  },
  {
   "cell_type": "code",
   "execution_count": 47,
   "metadata": {},
   "outputs": [],
   "source": [
    "@delay(duration=2)\n",
    "def add(a, b):\n",
    "    return a+b"
   ]
  },
  {
   "cell_type": "code",
   "execution_count": 48,
   "metadata": {},
   "outputs": [
    {
     "data": {
      "text/plain": [
       "<__main__.DelayFunc at 0x1fcf9979270>"
      ]
     },
     "execution_count": 48,
     "metadata": {},
     "output_type": "execute_result"
    }
   ],
   "source": [
    "add"
   ]
  },
  {
   "cell_type": "code",
   "execution_count": 49,
   "metadata": {},
   "outputs": [
    {
     "name": "stdout",
     "output_type": "stream",
     "text": [
      "Wait for 2 seconds...\n"
     ]
    },
    {
     "data": {
      "text/plain": [
       "8"
      ]
     },
     "execution_count": 49,
     "metadata": {},
     "output_type": "execute_result"
    }
   ],
   "source": [
    "add(3,5)"
   ]
  },
  {
   "cell_type": "markdown",
   "metadata": {},
   "source": [
    "### 装饰器来装饰类\n",
    "    实际上对__init__函数进行了装饰"
   ]
  },
  {
   "cell_type": "code",
   "execution_count": 51,
   "metadata": {},
   "outputs": [],
   "source": [
    "@decorator\n",
    "class Person:\n",
    "    def __init__(self, name) -> None:\n",
    "        print(name)"
   ]
  },
  {
   "cell_type": "code",
   "execution_count": 52,
   "metadata": {},
   "outputs": [
    {
     "name": "stdout",
     "output_type": "stream",
     "text": [
      "before1\n",
      "simon\n",
      "after1\n"
     ]
    }
   ],
   "source": [
    "p = Person('simon')"
   ]
  }
 ],
 "metadata": {
  "kernelspec": {
   "display_name": "Python 3.10.6 64-bit",
   "language": "python",
   "name": "python3"
  },
  "language_info": {
   "codemirror_mode": {
    "name": "ipython",
    "version": 3
   },
   "file_extension": ".py",
   "mimetype": "text/x-python",
   "name": "python",
   "nbconvert_exporter": "python",
   "pygments_lexer": "ipython3",
   "version": "3.10.6"
  },
  "orig_nbformat": 4,
  "vscode": {
   "interpreter": {
    "hash": "8067871d1d0a2a4071e2339831fc76617fc2c3eeb09b72735f92026d568ae05b"
   }
  }
 },
 "nbformat": 4,
 "nbformat_minor": 2
}
