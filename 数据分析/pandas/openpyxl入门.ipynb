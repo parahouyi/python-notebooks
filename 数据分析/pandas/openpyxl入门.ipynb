{
 "cells": [
  {
   "cell_type": "code",
   "execution_count": 13,
   "metadata": {},
   "outputs": [],
   "source": [
    "from IPython.core.interactiveshell import InteractiveShell\n",
    "import pandas as pd, numpy as np\n",
    "import openpyxl\n",
    "InteractiveShell.ast_node_interactivity = 'all'"
   ]
  },
  {
   "cell_type": "code",
   "execution_count": 14,
   "metadata": {},
   "outputs": [],
   "source": [
    "df = pd.read_csv('new_team.csv')"
   ]
  },
  {
   "cell_type": "code",
   "execution_count": 15,
   "metadata": {},
   "outputs": [
    {
     "data": {
      "text/html": [
       "<div>\n",
       "<style scoped>\n",
       "    .dataframe tbody tr th:only-of-type {\n",
       "        vertical-align: middle;\n",
       "    }\n",
       "\n",
       "    .dataframe tbody tr th {\n",
       "        vertical-align: top;\n",
       "    }\n",
       "\n",
       "    .dataframe thead th {\n",
       "        text-align: right;\n",
       "    }\n",
       "</style>\n",
       "<table border=\"1\" class=\"dataframe\">\n",
       "  <thead>\n",
       "    <tr style=\"text-align: right;\">\n",
       "      <th></th>\n",
       "      <th>name</th>\n",
       "      <th>team</th>\n",
       "      <th>Q1</th>\n",
       "      <th>Q2</th>\n",
       "      <th>Q3</th>\n",
       "      <th>Q4</th>\n",
       "    </tr>\n",
       "  </thead>\n",
       "  <tbody>\n",
       "    <tr>\n",
       "      <th>0</th>\n",
       "      <td>Aaron</td>\n",
       "      <td>A</td>\n",
       "      <td>96</td>\n",
       "      <td>75</td>\n",
       "      <td>55</td>\n",
       "      <td>8</td>\n",
       "    </tr>\n",
       "    <tr>\n",
       "      <th>1</th>\n",
       "      <td>Ack</td>\n",
       "      <td>A</td>\n",
       "      <td>57</td>\n",
       "      <td>60</td>\n",
       "      <td>18</td>\n",
       "      <td>84</td>\n",
       "    </tr>\n",
       "    <tr>\n",
       "      <th>2</th>\n",
       "      <td>Acob</td>\n",
       "      <td>B</td>\n",
       "      <td>61</td>\n",
       "      <td>95</td>\n",
       "      <td>94</td>\n",
       "      <td>8</td>\n",
       "    </tr>\n",
       "    <tr>\n",
       "      <th>3</th>\n",
       "      <td>Adam</td>\n",
       "      <td>C</td>\n",
       "      <td>90</td>\n",
       "      <td>32</td>\n",
       "      <td>47</td>\n",
       "      <td>39</td>\n",
       "    </tr>\n",
       "    <tr>\n",
       "      <th>4</th>\n",
       "      <td>Aiden</td>\n",
       "      <td>D</td>\n",
       "      <td>20</td>\n",
       "      <td>31</td>\n",
       "      <td>62</td>\n",
       "      <td>68</td>\n",
       "    </tr>\n",
       "    <tr>\n",
       "      <th>...</th>\n",
       "      <td>...</td>\n",
       "      <td>...</td>\n",
       "      <td>...</td>\n",
       "      <td>...</td>\n",
       "      <td>...</td>\n",
       "      <td>...</td>\n",
       "    </tr>\n",
       "    <tr>\n",
       "      <th>95</th>\n",
       "      <td>Toby</td>\n",
       "      <td>A</td>\n",
       "      <td>52</td>\n",
       "      <td>27</td>\n",
       "      <td>17</td>\n",
       "      <td>68</td>\n",
       "    </tr>\n",
       "    <tr>\n",
       "      <th>96</th>\n",
       "      <td>Tommy</td>\n",
       "      <td>C</td>\n",
       "      <td>29</td>\n",
       "      <td>44</td>\n",
       "      <td>28</td>\n",
       "      <td>76</td>\n",
       "    </tr>\n",
       "    <tr>\n",
       "      <th>97</th>\n",
       "      <td>Tyler</td>\n",
       "      <td>A</td>\n",
       "      <td>75</td>\n",
       "      <td>16</td>\n",
       "      <td>44</td>\n",
       "      <td>63</td>\n",
       "    </tr>\n",
       "    <tr>\n",
       "      <th>98</th>\n",
       "      <td>William</td>\n",
       "      <td>C</td>\n",
       "      <td>80</td>\n",
       "      <td>68</td>\n",
       "      <td>3</td>\n",
       "      <td>26</td>\n",
       "    </tr>\n",
       "    <tr>\n",
       "      <th>99</th>\n",
       "      <td>Zachary</td>\n",
       "      <td>E</td>\n",
       "      <td>12</td>\n",
       "      <td>71</td>\n",
       "      <td>85</td>\n",
       "      <td>93</td>\n",
       "    </tr>\n",
       "  </tbody>\n",
       "</table>\n",
       "<p>100 rows × 6 columns</p>\n",
       "</div>"
      ],
      "text/plain": [
       "       name team  Q1  Q2  Q3  Q4\n",
       "0     Aaron    A  96  75  55   8\n",
       "1       Ack    A  57  60  18  84\n",
       "2      Acob    B  61  95  94   8\n",
       "3      Adam    C  90  32  47  39\n",
       "4     Aiden    D  20  31  62  68\n",
       "..      ...  ...  ..  ..  ..  ..\n",
       "95     Toby    A  52  27  17  68\n",
       "96    Tommy    C  29  44  28  76\n",
       "97    Tyler    A  75  16  44  63\n",
       "98  William    C  80  68   3  26\n",
       "99  Zachary    E  12  71  85  93\n",
       "\n",
       "[100 rows x 6 columns]"
      ]
     },
     "execution_count": 15,
     "metadata": {},
     "output_type": "execute_result"
    },
    {
     "data": {
      "text/plain": [
       "pandas.core.frame.DataFrame"
      ]
     },
     "execution_count": 15,
     "metadata": {},
     "output_type": "execute_result"
    }
   ],
   "source": [
    "df\n",
    "type(df)"
   ]
  },
  {
   "cell_type": "code",
   "execution_count": 16,
   "metadata": {},
   "outputs": [
    {
     "data": {
      "text/plain": [
       "[<Worksheet \"Sheet1\">]"
      ]
     },
     "execution_count": 16,
     "metadata": {},
     "output_type": "execute_result"
    }
   ],
   "source": [
    "wb = openpyxl.load_workbook('new000607.xlsx')\n",
    "wb.worksheets"
   ]
  },
  {
   "cell_type": "code",
   "execution_count": 17,
   "metadata": {},
   "outputs": [],
   "source": [
    "ws = wb['Sheet1']"
   ]
  },
  {
   "cell_type": "code",
   "execution_count": 18,
   "metadata": {},
   "outputs": [
    {
     "data": {
      "text/plain": [
       "<Cell 'Sheet1'.A1>"
      ]
     },
     "execution_count": 18,
     "metadata": {},
     "output_type": "execute_result"
    }
   ],
   "source": [
    "ws['A1']"
   ]
  },
  {
   "cell_type": "code",
   "execution_count": 19,
   "metadata": {},
   "outputs": [
    {
     "name": "stdout",
     "output_type": "stream",
     "text": [
      "Help on Cell in module openpyxl.cell.cell object:\n",
      "\n",
      "class Cell(openpyxl.styles.styleable.StyleableObject)\n",
      " |  Cell(worksheet, row=None, column=None, value=None, style_array=None)\n",
      " |  \n",
      " |  Describes cell associated properties.\n",
      " |  \n",
      " |  Properties of interest include style, type, value, and address.\n",
      " |  \n",
      " |  Method resolution order:\n",
      " |      Cell\n",
      " |      openpyxl.styles.styleable.StyleableObject\n",
      " |      builtins.object\n",
      " |  \n",
      " |  Methods defined here:\n",
      " |  \n",
      " |  __init__(self, worksheet, row=None, column=None, value=None, style_array=None)\n",
      " |      Initialize self.  See help(type(self)) for accurate signature.\n",
      " |  \n",
      " |  __repr__(self)\n",
      " |      Return repr(self).\n",
      " |  \n",
      " |  check_error(self, value)\n",
      " |      Tries to convert Error\" else N/A\n",
      " |  \n",
      " |  check_string(self, value)\n",
      " |      Check string coding, length, and line break character\n",
      " |  \n",
      " |  offset(self, row=0, column=0)\n",
      " |      Returns a cell location relative to this cell.\n",
      " |      \n",
      " |      :param row: number of rows to offset\n",
      " |      :type row: int\n",
      " |      \n",
      " |      :param column: number of columns to offset\n",
      " |      :type column: int\n",
      " |      \n",
      " |      :rtype: :class:`openpyxl.cell.Cell`\n",
      " |  \n",
      " |  ----------------------------------------------------------------------\n",
      " |  Readonly properties defined here:\n",
      " |  \n",
      " |  base_date\n",
      " |  \n",
      " |  col_idx\n",
      " |      The numerical index of the column\n",
      " |  \n",
      " |  column_letter\n",
      " |  \n",
      " |  coordinate\n",
      " |      This cell's coordinate (ex. 'A5')\n",
      " |  \n",
      " |  encoding\n",
      " |  \n",
      " |  internal_value\n",
      " |      Always returns the value for excel.\n",
      " |  \n",
      " |  is_date\n",
      " |      True if the value is formatted as a date\n",
      " |      \n",
      " |      :type: bool\n",
      " |  \n",
      " |  ----------------------------------------------------------------------\n",
      " |  Data descriptors defined here:\n",
      " |  \n",
      " |  column\n",
      " |  \n",
      " |  comment\n",
      " |      Returns the comment associated with this cell\n",
      " |      \n",
      " |      :type: :class:`openpyxl.comments.Comment`\n",
      " |  \n",
      " |  data_type\n",
      " |  \n",
      " |  hyperlink\n",
      " |      Return the hyperlink target or an empty string\n",
      " |  \n",
      " |  parent\n",
      " |  \n",
      " |  row\n",
      " |  \n",
      " |  value\n",
      " |      Get or set the value held in the cell.\n",
      " |      \n",
      " |      :type: depends on the value (string, float, int or\n",
      " |          :class:`datetime.datetime`)\n",
      " |  \n",
      " |  ----------------------------------------------------------------------\n",
      " |  Readonly properties inherited from openpyxl.styles.styleable.StyleableObject:\n",
      " |  \n",
      " |  has_style\n",
      " |  \n",
      " |  style_id\n",
      " |  \n",
      " |  ----------------------------------------------------------------------\n",
      " |  Data descriptors inherited from openpyxl.styles.styleable.StyleableObject:\n",
      " |  \n",
      " |  alignment\n",
      " |  \n",
      " |  border\n",
      " |  \n",
      " |  fill\n",
      " |  \n",
      " |  font\n",
      " |  \n",
      " |  number_format\n",
      " |  \n",
      " |  pivotButton\n",
      " |  \n",
      " |  protection\n",
      " |  \n",
      " |  quotePrefix\n",
      " |  \n",
      " |  style\n",
      "\n"
     ]
    }
   ],
   "source": [
    "help(ws['A1'])"
   ]
  },
  {
   "cell_type": "code",
   "execution_count": 20,
   "metadata": {},
   "outputs": [
    {
     "data": {
      "text/plain": [
       "'2022-05-06'"
      ]
     },
     "execution_count": 20,
     "metadata": {},
     "output_type": "execute_result"
    },
    {
     "data": {
      "text/plain": [
       "'2022-05-06'"
      ]
     },
     "execution_count": 20,
     "metadata": {},
     "output_type": "execute_result"
    }
   ],
   "source": [
    "ws['A2'].value\n",
    "ws['A2'].internal_value"
   ]
  },
  {
   "cell_type": "code",
   "execution_count": 21,
   "metadata": {},
   "outputs": [
    {
     "data": {
      "text/plain": [
       "<Cell 'Sheet1'.B3>"
      ]
     },
     "execution_count": 21,
     "metadata": {},
     "output_type": "execute_result"
    }
   ],
   "source": [
    "cell = ws['B3']\n",
    "cell"
   ]
  },
  {
   "cell_type": "code",
   "execution_count": 22,
   "metadata": {},
   "outputs": [
    {
     "data": {
      "text/plain": [
       "2"
      ]
     },
     "execution_count": 22,
     "metadata": {},
     "output_type": "execute_result"
    },
    {
     "data": {
      "text/plain": [
       "2"
      ]
     },
     "execution_count": 22,
     "metadata": {},
     "output_type": "execute_result"
    },
    {
     "data": {
      "text/plain": [
       "'B'"
      ]
     },
     "execution_count": 22,
     "metadata": {},
     "output_type": "execute_result"
    },
    {
     "data": {
      "text/plain": [
       "datetime.datetime(1899, 12, 30, 0, 0)"
      ]
     },
     "execution_count": 22,
     "metadata": {},
     "output_type": "execute_result"
    },
    {
     "data": {
      "text/plain": [
       "'B3'"
      ]
     },
     "execution_count": 22,
     "metadata": {},
     "output_type": "execute_result"
    },
    {
     "data": {
      "text/plain": [
       "3"
      ]
     },
     "execution_count": 22,
     "metadata": {},
     "output_type": "execute_result"
    },
    {
     "data": {
      "text/plain": [
       "'n'"
      ]
     },
     "execution_count": 22,
     "metadata": {},
     "output_type": "execute_result"
    }
   ],
   "source": [
    "cell.col_idx\n",
    "cell.column\n",
    "cell.column_letter\n",
    "cell.base_date\n",
    "cell.coordinate\n",
    "cell.row\n",
    "cell.data_type"
   ]
  },
  {
   "cell_type": "code",
   "execution_count": 23,
   "metadata": {},
   "outputs": [
    {
     "ename": "AttributeError",
     "evalue": "'str' object has no attribute 'read_only'",
     "output_type": "error",
     "traceback": [
      "\u001b[0;31m---------------------------------------------------------------------------\u001b[0m",
      "\u001b[0;31mAttributeError\u001b[0m                            Traceback (most recent call last)",
      "\u001b[1;32m/home/simon/Desktop/pandas/openpyxl入门.ipynb Cell 11'\u001b[0m in \u001b[0;36m<cell line: 1>\u001b[0;34m()\u001b[0m\n\u001b[0;32m----> <a href='vscode-notebook-cell:/home/simon/Desktop/pandas/openpyxl%E5%85%A5%E9%97%A8.ipynb#ch0000010?line=0'>1</a>\u001b[0m new_wb \u001b[39m=\u001b[39m openpyxl\u001b[39m.\u001b[39;49mWorkbook\u001b[39m.\u001b[39;49mcreate_sheet(\u001b[39m'\u001b[39;49m\u001b[39mnewsheet\u001b[39;49m\u001b[39m'\u001b[39;49m)\n",
      "File \u001b[0;32m~/.local/lib/python3.10/site-packages/openpyxl/workbook/workbook.py:191\u001b[0m, in \u001b[0;36mWorkbook.create_sheet\u001b[0;34m(self, title, index)\u001b[0m\n\u001b[1;32m    182\u001b[0m \u001b[39mdef\u001b[39;00m \u001b[39mcreate_sheet\u001b[39m(\u001b[39mself\u001b[39m, title\u001b[39m=\u001b[39m\u001b[39mNone\u001b[39;00m, index\u001b[39m=\u001b[39m\u001b[39mNone\u001b[39;00m):\n\u001b[1;32m    183\u001b[0m     \u001b[39m\"\"\"Create a worksheet (at an optional index).\u001b[39;00m\n\u001b[1;32m    184\u001b[0m \n\u001b[1;32m    185\u001b[0m \u001b[39m    :param title: optional title of the sheet\u001b[39;00m\n\u001b[0;32m   (...)\u001b[0m\n\u001b[1;32m    189\u001b[0m \n\u001b[1;32m    190\u001b[0m \u001b[39m    \"\"\"\u001b[39;00m\n\u001b[0;32m--> 191\u001b[0m     \u001b[39mif\u001b[39;00m \u001b[39mself\u001b[39;49m\u001b[39m.\u001b[39;49mread_only:\n\u001b[1;32m    192\u001b[0m         \u001b[39mraise\u001b[39;00m ReadOnlyWorkbookException(\u001b[39m'\u001b[39m\u001b[39mCannot create new sheet in a read-only workbook\u001b[39m\u001b[39m'\u001b[39m)\n\u001b[1;32m    194\u001b[0m     \u001b[39mif\u001b[39;00m \u001b[39mself\u001b[39m\u001b[39m.\u001b[39mwrite_only :\n",
      "\u001b[0;31mAttributeError\u001b[0m: 'str' object has no attribute 'read_only'"
     ]
    }
   ],
   "source": [
    "new_wb = openpyxl.Workbook.create_sheet('newsheet')"
   ]
  },
  {
   "cell_type": "code",
   "execution_count": 24,
   "metadata": {},
   "outputs": [
    {
     "data": {
      "text/plain": [
       "[1, 2, 3, 4, 5]"
      ]
     },
     "execution_count": 24,
     "metadata": {},
     "output_type": "execute_result"
    },
    {
     "data": {
      "text/plain": [
       "array([1, 2, 3, 4, 5])"
      ]
     },
     "execution_count": 24,
     "metadata": {},
     "output_type": "execute_result"
    },
    {
     "data": {
      "text/plain": [
       "[1, 2, 3, 4, 5]"
      ]
     },
     "execution_count": 24,
     "metadata": {},
     "output_type": "execute_result"
    },
    {
     "data": {
      "text/plain": [
       "array([100,   2,   3,   4,   5])"
      ]
     },
     "execution_count": 24,
     "metadata": {},
     "output_type": "execute_result"
    }
   ],
   "source": [
    "l = [1,2,3,4,5]\n",
    "arrl = np.array(l)\n",
    "l\n",
    "arrl\n",
    "arrl[0] = 100\n",
    "l\n",
    "arrl"
   ]
  },
  {
   "cell_type": "code",
   "execution_count": 29,
   "metadata": {},
   "outputs": [
    {
     "data": {
      "text/plain": [
       "array([100,   2,   5])"
      ]
     },
     "execution_count": 29,
     "metadata": {},
     "output_type": "execute_result"
    }
   ],
   "source": [
    "arry = np.array([0,0,1,1,0])\n",
    "arrl[arry==0]"
   ]
  },
  {
   "cell_type": "code",
   "execution_count": null,
   "metadata": {},
   "outputs": [],
   "source": [
    "from collections import Counter"
   ]
  }
 ],
 "metadata": {
  "kernelspec": {
   "display_name": "Python 3.10.5 64-bit",
   "language": "python",
   "name": "python3"
  },
  "language_info": {
   "codemirror_mode": {
    "name": "ipython",
    "version": 3
   },
   "file_extension": ".py",
   "mimetype": "text/x-python",
   "name": "python",
   "nbconvert_exporter": "python",
   "pygments_lexer": "ipython3",
   "version": "3.10.5"
  },
  "orig_nbformat": 4,
  "vscode": {
   "interpreter": {
    "hash": "aee8b7b246df8f9039afb4144a1f6fd8d2ca17a180786b69acc140d282b71a49"
   }
  }
 },
 "nbformat": 4,
 "nbformat_minor": 2
}
