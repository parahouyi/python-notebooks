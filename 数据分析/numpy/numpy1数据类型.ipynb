{
 "cells": [
  {
   "cell_type": "code",
   "execution_count": 2,
   "metadata": {},
   "outputs": [],
   "source": [
    "from IPython.core.interactiveshell import InteractiveShell\n",
    "import numpy as np, pandas as pd, matplotlib.pyplot as plt\n",
    "\n",
    "InteractiveShell.ast_node_interactivity = 'all'"
   ]
  },
  {
   "cell_type": "code",
   "execution_count": 3,
   "metadata": {},
   "outputs": [],
   "source": [
    "arr = np.arange(72).reshape(4,3,6)"
   ]
  },
  {
   "cell_type": "code",
   "execution_count": 4,
   "metadata": {},
   "outputs": [
    {
     "data": {
      "text/plain": [
       "array([[[ 0,  1,  2,  3,  4,  5],\n",
       "        [ 6,  7,  8,  9, 10, 11],\n",
       "        [12, 13, 14, 15, 16, 17]],\n",
       "\n",
       "       [[18, 19, 20, 21, 22, 23],\n",
       "        [24, 25, 26, 27, 28, 29],\n",
       "        [30, 31, 32, 33, 34, 35]],\n",
       "\n",
       "       [[36, 37, 38, 39, 40, 41],\n",
       "        [42, 43, 44, 45, 46, 47],\n",
       "        [48, 49, 50, 51, 52, 53]],\n",
       "\n",
       "       [[54, 55, 56, 57, 58, 59],\n",
       "        [60, 61, 62, 63, 64, 65],\n",
       "        [66, 67, 68, 69, 70, 71]]])"
      ]
     },
     "execution_count": 4,
     "metadata": {},
     "output_type": "execute_result"
    }
   ],
   "source": [
    "arr"
   ]
  },
  {
   "cell_type": "code",
   "execution_count": 5,
   "metadata": {},
   "outputs": [],
   "source": [
    "arr2 = np.arange(3).reshape(1,3,1)"
   ]
  },
  {
   "cell_type": "code",
   "execution_count": 6,
   "metadata": {},
   "outputs": [
    {
     "data": {
      "text/plain": [
       "array([[[ 0,  1,  2,  3,  4,  5],\n",
       "        [ 7,  8,  9, 10, 11, 12],\n",
       "        [14, 15, 16, 17, 18, 19]],\n",
       "\n",
       "       [[18, 19, 20, 21, 22, 23],\n",
       "        [25, 26, 27, 28, 29, 30],\n",
       "        [32, 33, 34, 35, 36, 37]],\n",
       "\n",
       "       [[36, 37, 38, 39, 40, 41],\n",
       "        [43, 44, 45, 46, 47, 48],\n",
       "        [50, 51, 52, 53, 54, 55]],\n",
       "\n",
       "       [[54, 55, 56, 57, 58, 59],\n",
       "        [61, 62, 63, 64, 65, 66],\n",
       "        [68, 69, 70, 71, 72, 73]]])"
      ]
     },
     "execution_count": 6,
     "metadata": {},
     "output_type": "execute_result"
    }
   ],
   "source": [
    "arr + arr2"
   ]
  },
  {
   "cell_type": "code",
   "execution_count": 7,
   "metadata": {},
   "outputs": [
    {
     "data": {
      "text/plain": [
       "array([[ 90,  91,  92,  93,  94,  95,  96,  97,  98],\n",
       "       [ 99, 100, 101, 102, 103, 104, 105, 106, 107],\n",
       "       [108, 109, 110, 111, 112, 113, 114, 115, 116],\n",
       "       [117, 118, 119, 120, 121, 122, 123, 124, 125],\n",
       "       [126, 127, 128, 129, 130, 131, 132, 133, 134],\n",
       "       [135, 136, 137, 138, 139, 140, 141, 142, 143],\n",
       "       [144, 145, 146, 147, 148, 149, 150, 151, 152],\n",
       "       [153, 154, 155, 156, 157, 158, 159, 160, 161]])"
      ]
     },
     "execution_count": 7,
     "metadata": {},
     "output_type": "execute_result"
    }
   ],
   "source": [
    "arr3 = np.arange(90,162).reshape(8,9)\n",
    "arr3"
   ]
  },
  {
   "cell_type": "code",
   "execution_count": 8,
   "metadata": {},
   "outputs": [
    {
     "data": {
      "text/plain": [
       "array([[108, 109, 110, 111, 112, 113, 114, 115, 116],\n",
       "       [144, 145, 146, 147, 148, 149, 150, 151, 152]])"
      ]
     },
     "execution_count": 8,
     "metadata": {},
     "output_type": "execute_result"
    }
   ],
   "source": [
    "s_arr3 = arr3[...][[2,6]]\n",
    "s_arr3"
   ]
  },
  {
   "cell_type": "code",
   "execution_count": 9,
   "metadata": {},
   "outputs": [
    {
     "data": {
      "text/plain": [
       "array([[False, False, False, False, False, False, False, False, False],\n",
       "       [False, False,  True,  True,  True,  True,  True,  True,  True],\n",
       "       [ True,  True,  True,  True,  True,  True,  True,  True,  True],\n",
       "       [ True,  True,  True,  True,  True,  True,  True,  True,  True],\n",
       "       [ True,  True,  True,  True, False, False, False, False, False],\n",
       "       [False, False, False, False, False, False, False, False, False],\n",
       "       [False, False, False, False, False, False, False, False, False],\n",
       "       [False, False, False, False, False, False, False, False, False]])"
      ]
     },
     "execution_count": 9,
     "metadata": {},
     "output_type": "execute_result"
    },
    {
     "data": {
      "text/plain": [
       "array([101, 102, 103, 104, 105, 106, 107, 108, 109, 110, 111, 112, 113,\n",
       "       114, 115, 116, 117, 118, 119, 120, 121, 122, 123, 124, 125, 126,\n",
       "       127, 128, 129])"
      ]
     },
     "execution_count": 9,
     "metadata": {},
     "output_type": "execute_result"
    }
   ],
   "source": [
    "mask = (arr3>100) & (arr3<130)\n",
    "mask\n",
    "arr3[mask]"
   ]
  },
  {
   "cell_type": "code",
   "execution_count": 10,
   "metadata": {},
   "outputs": [
    {
     "data": {
      "text/plain": [
       "array([2.5819889, 2.5819889, 2.5819889, 2.5819889, 2.5819889, 2.5819889,\n",
       "       2.5819889, 2.5819889])"
      ]
     },
     "execution_count": 10,
     "metadata": {},
     "output_type": "execute_result"
    }
   ],
   "source": [
    "arr3.std(1)"
   ]
  },
  {
   "cell_type": "code",
   "execution_count": 11,
   "metadata": {},
   "outputs": [
    {
     "data": {
      "text/plain": [
       "array([2.00000000e+00, 2.81854284e+00, 3.97209187e+00, 5.59775554e+00,\n",
       "       7.88875690e+00, 1.11173996e+01, 1.56674336e+01, 2.20796663e+01,\n",
       "       3.11162427e+01, 4.38512315e+01, 6.17982873e+01, 8.70905600e+01,\n",
       "       1.22734237e+02, 1.72965853e+02, 2.43755832e+02, 3.43518128e+02,\n",
       "       4.84110280e+02, 6.82242781e+02, 9.61465253e+02, 1.35496550e+03,\n",
       "       1.90951415e+03, 2.69102372e+03, 3.79238282e+03, 5.34449672e+03,\n",
       "       7.53184648e+03, 1.06144160e+04, 1.49585931e+04, 2.10807177e+04,\n",
       "       2.97084529e+04, 4.18672736e+04, 5.90023521e+04, 8.31503285e+04,\n",
       "       1.17181382e+05, 1.65140372e+05, 2.32727606e+05, 3.27976364e+05,\n",
       "       4.62207716e+05, 6.51376124e+05, 9.17965754e+05, 1.29366290e+06,\n",
       "       1.82312215e+06, 2.56927394e+06, 3.62080434e+06, 5.10269607e+06,\n",
       "       7.19108373e+06, 1.01341888e+07, 1.42818226e+07, 2.01269644e+07,\n",
       "       2.83643557e+07, 3.99730758e+07, 5.63329133e+07, 7.93883647e+07,\n",
       "       1.11879753e+08, 1.57668939e+08, 2.22198329e+08, 3.13137755e+08,\n",
       "       4.41296088e+08, 6.21905964e+08, 8.76434301e+08, 1.23513381e+09,\n",
       "       1.74063878e+09, 2.45303248e+09, 3.45698857e+09, 4.87183519e+09,\n",
       "       6.86573809e+09, 9.67568846e+09, 1.36356712e+10, 1.92163617e+10,\n",
       "       2.70810693e+10, 3.81645770e+10, 5.37842476e+10, 7.57966030e+10,\n",
       "       1.06817986e+11, 1.50535535e+11, 2.12145427e+11, 2.98970487e+11,\n",
       "       4.21330563e+11, 5.93769121e+11, 8.36781852e+11, 1.17925275e+12,\n",
       "       1.66188719e+12, 2.34205012e+12, 3.30058430e+12, 4.65141912e+12,\n",
       "       6.55511203e+12, 9.23793203e+12, 1.30187536e+13, 1.83469573e+13,\n",
       "       2.58558426e+13, 3.64379000e+13, 5.13508911e+13, 7.23673432e+13,\n",
       "       1.01985228e+14, 1.43724868e+14, 2.02547348e+14, 2.85444189e+14,\n",
       "       4.02268337e+14, 5.66905270e+14, 7.98923395e+14, 1.12589991e+15])"
      ]
     },
     "execution_count": 11,
     "metadata": {},
     "output_type": "execute_result"
    },
    {
     "data": {
      "text/plain": [
       "array([2.00000000e+00, 8.39981225e+00, 1.96937894e+01, 4.01281337e+01,\n",
       "       7.78987561e+01, 1.48948773e+02, 2.84470775e+02, 5.45750664e+02,\n",
       "       1.05356929e+03, 2.04648420e+03, 3.99642317e+03, 7.83803732e+03,\n",
       "       1.54238957e+04, 3.04280837e+04, 6.01401734e+04, 1.19027259e+05,\n",
       "       2.35807094e+05, 4.67493941e+05, 9.27291828e+05, 1.83998841e+06,\n",
       "       3.65196485e+06, 7.24967375e+06, 1.43935366e+07, 2.85796707e+07,\n",
       "       5.67512989e+07, 1.12697662e+08, 2.23804374e+08, 4.44459892e+08,\n",
       "       8.82681293e+08, 1.75299420e+09, 3.48145456e+09, 6.91422658e+09,\n",
       "       1.37318277e+10, 2.72718378e+10, 5.41628369e+10, 1.07569479e+11,\n",
       "       2.13637359e+11, 4.24292809e+11, 8.42663880e+11, 1.67356758e+12,\n",
       "       3.32377986e+12, 6.60117631e+12, 1.31102349e+13, 2.60375225e+13,\n",
       "       5.17117068e+13, 1.02701813e+14, 2.03970500e+14, 4.05094757e+14,\n",
       "       8.04536759e+14, 1.59784691e+15, 3.17339729e+15, 6.30251268e+15,\n",
       "       1.25170795e+16, 2.48594947e+16, 4.93720981e+16, 9.80552543e+16,\n",
       "       1.94742239e+17, 3.86767030e+17, 7.68137086e+17, 1.52555554e+18,\n",
       "       3.02982336e+18, 6.01736837e+18, 1.19507700e+19, 2.37347781e+19,\n",
       "       4.71383595e+19, 9.36189472e+19, 1.85931529e+20, 3.69268558e+20,\n",
       "       7.33384317e+20, 1.45653494e+21, 2.89274530e+21, 5.74512503e+21,\n",
       "       1.14100822e+22, 2.26609474e+22, 4.50056823e+22, 8.93833524e+22,\n",
       "       1.77519443e+23, 3.52561769e+23, 7.00203867e+23, 1.39063704e+24,\n",
       "       2.76186904e+24, 5.48519878e+24, 1.08938567e+25, 2.16356999e+25,\n",
       "       4.29694937e+25, 8.53393883e+25, 1.69487945e+26, 3.36610844e+26,\n",
       "       6.68524598e+26, 1.32772056e+27, 2.63691402e+27, 5.23703236e+27,\n",
       "       1.04009868e+28, 2.06568376e+28, 4.10254283e+28, 8.14783849e+28,\n",
       "       1.61819815e+29, 3.21381586e+29, 6.38278591e+29, 1.26765060e+30])"
      ]
     },
     "execution_count": 11,
     "metadata": {},
     "output_type": "execute_result"
    }
   ],
   "source": [
    "x = np.logspace(1,50,100,base=2)\n",
    "y = x**2 + 3*x - 8\n",
    "x\n",
    "y"
   ]
  },
  {
   "cell_type": "code",
   "execution_count": 12,
   "metadata": {},
   "outputs": [
    {
     "data": {
      "text/plain": [
       "[<matplotlib.lines.Line2D at 0x2454fd79a60>]"
      ]
     },
     "execution_count": 12,
     "metadata": {},
     "output_type": "execute_result"
    },
    {
     "data": {
      "image/png": "[encoded data removed]",
      "text/plain": [
       "<Figure size 432x288 with 1 Axes>"
      ]
     },
     "metadata": {
      "needs_background": "light"
     },
     "output_type": "display_data"
    }
   ],
   "source": [
    "plt.plot(x,y)"
   ]
  },
  {
   "cell_type": "code",
   "execution_count": 18,
   "metadata": {},
   "outputs": [
    {
     "data": {
      "text/plain": [
       "array([[35, 59, 14, 51, 96, 45, 54],\n",
       "       [ 6, 85, 95, 12, 59, 65, 98],\n",
       "       [40, 16, 55, 49,  6, 65, 31],\n",
       "       [81, 47, 65,  1, 13, 97, 56]])"
      ]
     },
     "execution_count": 18,
     "metadata": {},
     "output_type": "execute_result"
    },
    {
     "data": {
      "text/plain": [
       "array([[ 0.29852698, -1.54736979, -0.86552186,  0.23188925, -2.09020681,\n",
       "         0.31134573,  0.86612931],\n",
       "       [-2.44563543, -0.09489709, -0.52099302, -1.0238824 ,  0.99455243,\n",
       "        -0.23243444, -1.21019482],\n",
       "       [-0.17441504, -0.49032148, -0.83261953,  0.2126455 ,  0.80427106,\n",
       "         0.87773495,  0.08758266],\n",
       "       [ 0.8487515 ,  0.22773916,  0.38470984, -0.82718582,  2.61136931,\n",
       "        -1.11218961,  0.41827025]])"
      ]
     },
     "execution_count": 18,
     "metadata": {},
     "output_type": "execute_result"
    }
   ],
   "source": [
    "\n",
    "\n",
    "ar1 = np.random.randint(low=1,high=100,size=(4,7))\n",
    "ar2 = np.random.randn(4,7)\n",
    "ar1\n",
    "ar2"
   ]
  },
  {
   "cell_type": "code",
   "execution_count": 14,
   "metadata": {},
   "outputs": [
    {
     "data": {
      "text/plain": [
       "2"
      ]
     },
     "execution_count": 14,
     "metadata": {},
     "output_type": "execute_result"
    },
    {
     "data": {
      "text/plain": [
       "(4, 7)"
      ]
     },
     "execution_count": 14,
     "metadata": {},
     "output_type": "execute_result"
    },
    {
     "data": {
      "text/plain": [
       "dtype('int32')"
      ]
     },
     "execution_count": 14,
     "metadata": {},
     "output_type": "execute_result"
    }
   ],
   "source": [
    "ar1.ndim\n",
    "ar1.shape\n",
    "ar1.dtype"
   ]
  },
  {
   "cell_type": "code",
   "execution_count": 19,
   "metadata": {},
   "outputs": [
    {
     "data": {
      "text/plain": [
       "array([[ 3.50000000e+01,  5.90000000e+01,  1.40000000e+01,\n",
       "         5.10000000e+01,  9.60000000e+01,  4.50000000e+01,\n",
       "         5.40000000e+01,  2.98526985e-01, -1.54736979e+00,\n",
       "        -8.65521864e-01,  2.31889246e-01, -2.09020681e+00,\n",
       "         3.11345729e-01,  8.66129310e-01],\n",
       "       [ 6.00000000e+00,  8.50000000e+01,  9.50000000e+01,\n",
       "         1.20000000e+01,  5.90000000e+01,  6.50000000e+01,\n",
       "         9.80000000e+01, -2.44563543e+00, -9.48970911e-02,\n",
       "        -5.20993018e-01, -1.02388240e+00,  9.94552433e-01,\n",
       "        -2.32434441e-01, -1.21019482e+00],\n",
       "       [ 4.00000000e+01,  1.60000000e+01,  5.50000000e+01,\n",
       "         4.90000000e+01,  6.00000000e+00,  6.50000000e+01,\n",
       "         3.10000000e+01, -1.74415043e-01, -4.90321476e-01,\n",
       "        -8.32619533e-01,  2.12645502e-01,  8.04271060e-01,\n",
       "         8.77734951e-01,  8.75826553e-02],\n",
       "       [ 8.10000000e+01,  4.70000000e+01,  6.50000000e+01,\n",
       "         1.00000000e+00,  1.30000000e+01,  9.70000000e+01,\n",
       "         5.60000000e+01,  8.48751505e-01,  2.27739161e-01,\n",
       "         3.84709843e-01, -8.27185821e-01,  2.61136931e+00,\n",
       "        -1.11218961e+00,  4.18270252e-01]])"
      ]
     },
     "execution_count": 19,
     "metadata": {},
     "output_type": "execute_result"
    }
   ],
   "source": [
    "np.hstack((ar1,ar2))"
   ]
  },
  {
   "cell_type": "code",
   "execution_count": 20,
   "metadata": {},
   "outputs": [
    {
     "data": {
      "text/plain": [
       "array([[ 3.50000000e+01,  5.90000000e+01,  1.40000000e+01,\n",
       "         5.10000000e+01,  9.60000000e+01,  4.50000000e+01,\n",
       "         5.40000000e+01],\n",
       "       [ 6.00000000e+00,  8.50000000e+01,  9.50000000e+01,\n",
       "         1.20000000e+01,  5.90000000e+01,  6.50000000e+01,\n",
       "         9.80000000e+01],\n",
       "       [ 4.00000000e+01,  1.60000000e+01,  5.50000000e+01,\n",
       "         4.90000000e+01,  6.00000000e+00,  6.50000000e+01,\n",
       "         3.10000000e+01],\n",
       "       [ 8.10000000e+01,  4.70000000e+01,  6.50000000e+01,\n",
       "         1.00000000e+00,  1.30000000e+01,  9.70000000e+01,\n",
       "         5.60000000e+01],\n",
       "       [ 2.98526985e-01, -1.54736979e+00, -8.65521864e-01,\n",
       "         2.31889246e-01, -2.09020681e+00,  3.11345729e-01,\n",
       "         8.66129310e-01],\n",
       "       [-2.44563543e+00, -9.48970911e-02, -5.20993018e-01,\n",
       "        -1.02388240e+00,  9.94552433e-01, -2.32434441e-01,\n",
       "        -1.21019482e+00],\n",
       "       [-1.74415043e-01, -4.90321476e-01, -8.32619533e-01,\n",
       "         2.12645502e-01,  8.04271060e-01,  8.77734951e-01,\n",
       "         8.75826553e-02],\n",
       "       [ 8.48751505e-01,  2.27739161e-01,  3.84709843e-01,\n",
       "        -8.27185821e-01,  2.61136931e+00, -1.11218961e+00,\n",
       "         4.18270252e-01]])"
      ]
     },
     "execution_count": 20,
     "metadata": {},
     "output_type": "execute_result"
    }
   ],
   "source": [
    "np.vstack((ar1,ar2))"
   ]
  },
  {
   "cell_type": "code",
   "execution_count": 24,
   "metadata": {},
   "outputs": [
    {
     "data": {
      "text/plain": [
       "array([[[35,  0],\n",
       "        [59, -1],\n",
       "        [14,  0],\n",
       "        [51,  0],\n",
       "        [96, -2],\n",
       "        [45,  0],\n",
       "        [54,  0]],\n",
       "\n",
       "       [[ 6, -2],\n",
       "        [85,  0],\n",
       "        [95,  0],\n",
       "        [12, -1],\n",
       "        [59,  0],\n",
       "        [65,  0],\n",
       "        [98, -1]],\n",
       "\n",
       "       [[40,  0],\n",
       "        [16,  0],\n",
       "        [55,  0],\n",
       "        [49,  0],\n",
       "        [ 6,  0],\n",
       "        [65,  0],\n",
       "        [31,  0]],\n",
       "\n",
       "       [[81,  0],\n",
       "        [47,  0],\n",
       "        [65,  0],\n",
       "        [ 1,  0],\n",
       "        [13,  2],\n",
       "        [97, -1],\n",
       "        [56,  0]]])"
      ]
     },
     "execution_count": 24,
     "metadata": {},
     "output_type": "execute_result"
    }
   ],
   "source": [
    "np.dstack((ar1,ar2)).astype('i4')"
   ]
  },
  {
   "cell_type": "code",
   "execution_count": 22,
   "metadata": {},
   "outputs": [
    {
     "data": {
      "text/plain": [
       "(4, 7, 2)"
      ]
     },
     "execution_count": 22,
     "metadata": {},
     "output_type": "execute_result"
    }
   ],
   "source": [
    "_.shape"
   ]
  },
  {
   "cell_type": "code",
   "execution_count": 25,
   "metadata": {},
   "outputs": [
    {
     "data": {
      "text/plain": [
       "4"
      ]
     },
     "execution_count": 25,
     "metadata": {},
     "output_type": "execute_result"
    }
   ],
   "source": [
    "len(ar1)"
   ]
  },
  {
   "cell_type": "code",
   "execution_count": 26,
   "metadata": {},
   "outputs": [
    {
     "data": {
      "text/plain": [
       "numpy.uint32"
      ]
     },
     "execution_count": 26,
     "metadata": {},
     "output_type": "execute_result"
    }
   ],
   "source": [
    "np.uint32"
   ]
  },
  {
   "cell_type": "code",
   "execution_count": 57,
   "metadata": {},
   "outputs": [],
   "source": [
    "student2 = [('name','S',20),('age','int32'),('score','int32',(4,))]\n",
    "student = {'names':['name','age','score'],'formats':['S20','int32','4int32']}\n",
    "student3 = 'S20,i4,4i4'"
   ]
  },
  {
   "cell_type": "code",
   "execution_count": 63,
   "metadata": {},
   "outputs": [],
   "source": [
    "students = [('simon',18,98),('lucy',20,99)]\n",
    "# students = [['simon',18,98],['lucy',20,99]]#为什么必须是元组，是列表就报错？？"
   ]
  },
  {
   "cell_type": "code",
   "execution_count": 64,
   "metadata": {},
   "outputs": [
    {
     "data": {
      "text/plain": [
       "array([(b'simon', 18, [98, 98, 98, 98]), (b'lucy', 20, [99, 99, 99, 99])],\n",
       "      dtype=[('f0', 'S20'), ('f1', '<i4'), ('f2', '<i4', (4,))])"
      ]
     },
     "execution_count": 64,
     "metadata": {},
     "output_type": "execute_result"
    }
   ],
   "source": [
    "arr_students = np.array(students,dtype=student3)\n",
    "arr_students"
   ]
  },
  {
   "cell_type": "code",
   "execution_count": 58,
   "metadata": {},
   "outputs": [
    {
     "data": {
      "text/plain": [
       "array([(b'simon', 18, [98, 98, 98, 98]), (b'lucy', 20, [99, 99, 99, 99])],\n",
       "      dtype=[('name', 'S20'), ('age', '<i4'), ('score', '<i4', (4,))])"
      ]
     },
     "execution_count": 58,
     "metadata": {},
     "output_type": "execute_result"
    }
   ],
   "source": [
    "arr_students = np.array(students,dtype=student2)\n",
    "arr_students"
   ]
  },
  {
   "cell_type": "code",
   "execution_count": 56,
   "metadata": {},
   "outputs": [
    {
     "data": {
      "text/plain": [
       "array([(b'simon', 18, [98, 98, 98, 98]), (b'lucy', 20, [99, 99, 99, 99])],\n",
       "      dtype=[('name', 'S20'), ('age', '<i4'), ('score', '<i4', (4,))])"
      ]
     },
     "execution_count": 56,
     "metadata": {},
     "output_type": "execute_result"
    }
   ],
   "source": [
    "arr_students = np.array(students,dtype=student)\n",
    "arr_students"
   ]
  },
  {
   "cell_type": "code",
   "execution_count": 52,
   "metadata": {},
   "outputs": [
    {
     "data": {
      "text/plain": [
       "dtype([('name', 'S20'), ('age', '<i4'), ('score', '<i4', (4,))])"
      ]
     },
     "execution_count": 52,
     "metadata": {},
     "output_type": "execute_result"
    }
   ],
   "source": [
    "arr_students.dtype"
   ]
  },
  {
   "cell_type": "markdown",
   "metadata": {},
   "source": [
    "日期数据类型"
   ]
  },
  {
   "cell_type": "code",
   "execution_count": null,
   "metadata": {},
   "outputs": [],
   "source": [
    "# datetime64  M8['D']"
   ]
  }
 ],
 "metadata": {
  "kernelspec": {
   "display_name": "Python 3.10.6 64-bit",
   "language": "python",
   "name": "python3"
  },
  "language_info": {
   "codemirror_mode": {
    "name": "ipython",
    "version": 3
   },
   "file_extension": ".py",
   "mimetype": "text/x-python",
   "name": "python",
   "nbconvert_exporter": "python",
   "pygments_lexer": "ipython3",
   "version": "3.10.6"
  },
  "orig_nbformat": 4,
  "vscode": {
   "interpreter": {
    "hash": "8067871d1d0a2a4071e2339831fc76617fc2c3eeb09b72735f92026d568ae05b"
   }
  }
 },
 "nbformat": 4,
 "nbformat_minor": 2
}
